{
 "cells": [
  {
   "cell_type": "markdown",
   "metadata": {},
   "source": [
    "## PCA of r101 90k partial data concat mean and r101 80k all data"
   ]
  },
  {
   "cell_type": "code",
   "execution_count": 3,
   "metadata": {},
   "outputs": [],
   "source": [
    "import os\n",
    "import numpy as np\n",
    "from sklearn.decomposition import PCA\n",
    "\n",
    "feat_a = np.load('/home/sunchao/Multi_Agent_Round_2/submissions/a32/net_90000_test_feats_concat_mean.npy')\n",
    "feat_b = np.load('/home/sunchao/Multi_Agent_Round_2/submissions/a34/net_80000_test_feats.npy')\n",
    "feat_extend = np.concatenate([feat_a, feat_b], axis=1)\n",
    "n_compoents = 128\n",
    "pca = PCA(n_compoents, svd_solver='randomized')\n",
    "feat_reduction = pca.fit_transform(feat_extend)\n",
    "np.save('./submission/32_90k_mean_concat_34_80k.npy', feat_reduction)\n"
   ]
  },
  {
   "cell_type": "code",
   "execution_count": 2,
   "metadata": {},
   "outputs": [
    {
     "name": "stdout",
     "output_type": "stream",
     "text": [
      "(8541900, 128)\n"
     ]
    }
   ],
   "source": [
    "import numpy as np\n",
    "a = np.load(\"/home/sunchao/Multi_Agent_Round_2/submissions/a34/net_80000_test_feats.npy\")\n",
    "print(a.shape)"
   ]
  },
  {
   "cell_type": "markdown",
   "metadata": {},
   "source": [
    "## Whitening of r101 90k partial data concat mean"
   ]
  },
  {
   "cell_type": "code",
   "execution_count": null,
   "metadata": {},
   "outputs": [],
   "source": [
    "import copy\n",
    "from sklearn.utils.extmath import randomized_svd\n",
    "import numpy as np\n",
    "\n",
    "def compute_kernel_bias(vecs):\n",
    "    mu = vecs.mean(axis=0, keepdims=True)\n",
    "    cov = np.cov(vecs.T)\n",
    "    u, s, vh = randomized_svd(cov, 128)\n",
    "    W = np.dot(u, np.diag(1 / np.sqrt(s)))\n",
    "    print('W:', W.shape)\n",
    "    print('mu:', mu.shape)\n",
    "    return W, -mu\n",
    "\n",
    "def normalize(vecs):\n",
    "    return vecs / (vecs**2).sum(axis=1, keepdims=True)**0.5\n",
    "\n",
    "\n",
    "\n",
    "feat_path = \"/home/sunchao/Multi_Agent_Round_2/trick/submission/kp_video.npy\"\n",
    "feat = np.load(feat_path, allow_pickle=True)\n",
    "# feat = np.random.rand(40000, 128)\n",
    "W, neg_mu = compute_kernel_bias(feat)\n",
    "feat = (feat + neg_mu) @ W\n",
    "feat = feat.astype(np.float32)\n",
    "feat = normalize(feat)\n",
    "print(feat.shape)\n",
    "np.save(feat_path.replace('.npy', '_white.npy'), feat)"
   ]
  },
  {
   "cell_type": "markdown",
   "metadata": {},
   "source": [
    "## PCA of r101 90k partial data concat mean and r101 60k all data"
   ]
  },
  {
   "cell_type": "code",
   "execution_count": 1,
   "metadata": {},
   "outputs": [],
   "source": [
    "import os\n",
    "import numpy as np\n",
    "from sklearn.decomposition import PCA\n",
    "\n",
    "feat_a = np.load('/home/sunchao/Multi_Agent_Round_2/submissions/a32/net_90000_test_feats_concat_mean.npy')\n",
    "feat_b = np.load('/home/sunchao/Multi_Agent_Round_2/30_r101/experiments/36_r101_100k_iter_lr/models/net_60000_test_feats.npy')\n",
    "feat_extend = np.concatenate([feat_a, feat_b], axis=1)\n",
    "n_compoents = 128\n",
    "pca = PCA(n_compoents, svd_solver='randomized')\n",
    "feat_reduction = pca.fit_transform(feat_extend)\n",
    "np.save('./submission/32_90k_mean_concat_34_60k.npy', feat_reduction)"
   ]
  },
  {
   "cell_type": "markdown",
   "metadata": {},
   "source": [
    "## 32_90k + 34_80k mean concat"
   ]
  },
  {
   "cell_type": "code",
   "execution_count": 2,
   "metadata": {},
   "outputs": [],
   "source": [
    "import os\n",
    "import numpy as np\n",
    "from sklearn.decomposition import PCA\n",
    "\n",
    "feat_a = np.load('/home/sunchao/Multi_Agent_Round_2/submissions/a32/net_90000_test_feats.npy')\n",
    "feat_b = np.load('/home/sunchao/Multi_Agent_Round_2/submissions/a34/net_80000_test_feats.npy')\n",
    "feat_extend = np.concatenate([feat_a, feat_b], axis=1)\n",
    "n_compoents = 128\n",
    "pca = PCA(n_compoents, svd_solver='randomized')\n",
    "feat_reduction = pca.fit_transform(feat_extend)\n",
    "np.save('./submission/intermediate_32_90k_34_80k.npy', feat_reduction)"
   ]
  },
  {
   "cell_type": "code",
   "execution_count": 3,
   "metadata": {},
   "outputs": [
    {
     "ename": "SyntaxError",
     "evalue": "unmatched ')' (4091551890.py, line 24)",
     "output_type": "error",
     "traceback": [
      "\u001b[0;36m  Input \u001b[0;32mIn [3]\u001b[0;36m\u001b[0m\n\u001b[0;31m    np.save('submission/32_90k_34_80k_concat_mean'), final_feat)\u001b[0m\n\u001b[0m                                                               ^\u001b[0m\n\u001b[0;31mSyntaxError\u001b[0m\u001b[0;31m:\u001b[0m unmatched ')'\n"
     ]
    }
   ],
   "source": [
    "import numpy as np\n",
    "from sklearn.decomposition import PCA\n",
    "\n",
    "feat_path = \"./submission/intermediate_32_90k_34_80k.npy\"\n",
    "ori_feat = np.load(feat_path)\n",
    "\n",
    "def pca(feat, n_compoents):\n",
    "    pca = PCA(n_compoents, svd_solver='randomized')\n",
    "    feat = pca.fit_transform(feat)\n",
    "    return feat\n",
    "\n",
    "def get_mean_feat(ori_feat, num_frames, n_compoents):\n",
    "    seq_feat = ori_feat.reshape(-1, num_frames, 128)\n",
    "    seq_feat = seq_feat.mean(axis=1)\n",
    "    seq_feat = seq_feat[:, None, :].repeat(num_frames, axis=1)\n",
    "    seq_feat = seq_feat.reshape(-1, 128)\n",
    "    reduction_seq_feat = pca(seq_feat, n_compoents)\n",
    "    return reduction_seq_feat\n",
    "\n",
    "t = 88\n",
    "seq_feat = get_mean_feat(ori_feat, 900, 128 - t)\n",
    "frame_feat = pca(ori_feat, t)\n",
    "final_feat = np.concatenate([seq_feat, frame_feat], axis=1)\n",
    "np.save('submission/32_90k_34_80k_concat_mean', final_feat)"
   ]
  },
  {
   "cell_type": "code",
   "execution_count": 1,
   "metadata": {},
   "outputs": [],
   "source": [
    "import os\n",
    "import numpy as np\n",
    "from sklearn.decomposition import PCA\n",
    "\n",
    "feat_a = np.load('/home/sunchao/Multi_Agent_Round_2/mouse/experiments/23_remove_fn/models/net_100000_test_feats.npy')\n",
    "feat_b = np.load('/home/sunchao/Multi_Agent_Round_2/mouse_r1_1th/results/submissions/hand_point.npy')\n",
    "feat_extend = np.concatenate([feat_a, feat_b], axis=1)\n",
    "n_compoents = 128\n",
    "pca = PCA(n_compoents, svd_solver='randomized')\n",
    "feat_reduction = pca.fit_transform(feat_extend)\n",
    "np.save('./submission/mouse.npy', feat_reduction)"
   ]
  }
 ],
 "metadata": {
  "kernelspec": {
   "display_name": "Python 3.8.12 ('py38': conda)",
   "language": "python",
   "name": "python3"
  },
  "language_info": {
   "codemirror_mode": {
    "name": "ipython",
    "version": 3
   },
   "file_extension": ".py",
   "mimetype": "text/x-python",
   "name": "python",
   "nbconvert_exporter": "python",
   "pygments_lexer": "ipython3",
   "version": "3.8.12"
  },
  "orig_nbformat": 4,
  "vscode": {
   "interpreter": {
    "hash": "7f736f3204584ee688e021cf967f793258c9e4177cdfa2432a7457834e0966b3"
   }
  }
 },
 "nbformat": 4,
 "nbformat_minor": 2
}
