{
 "cells": [
  {
   "cell_type": "code",
   "execution_count": 1,
   "metadata": {},
   "outputs": [],
   "source": [
    "import numpy as np\n",
    "import sklearn\n",
    "\n",
    "feat_path = \"/home/sunchao/Multi_Agent_Round_2/30_r101/experiments/32_r101_100k_iter/models/net_90000_test_feats.npy\"\n",
    "\n",
    "ori_feat = np.load(feat_path)"
   ]
  },
  {
   "cell_type": "code",
   "execution_count": 14,
   "metadata": {},
   "outputs": [],
   "source": [
    "from sklearn.decomposition import PCA\n",
    "\n",
    "def pca(feat, n_compoents):\n",
    "    pca = PCA(n_compoents, svd_solver='randomized')\n",
    "    feat = pca.fit_transform(feat)\n",
    "    return feat\n",
    "\n",
    "def get_mean_feat(ori_feat, num_frames, n_compoents):\n",
    "    seq_feat = ori_feat.reshape(-1, num_frames, 128)\n",
    "    seq_feat = seq_feat.mean(axis=1)\n",
    "    seq_feat = seq_feat[:, None, :].repeat(num_frames, axis=1)\n",
    "    seq_feat = seq_feat.reshape(-1, 128)\n",
    "    reduction_seq_feat = pca(seq_feat, n_compoents)\n",
    "    return reduction_seq_feat\n",
    "\n",
    "# p = get_mean_feat(ori_feat, 900, 34)\n",
    "# print(p.shape)"
   ]
  },
  {
   "cell_type": "code",
   "execution_count": 16,
   "metadata": {},
   "outputs": [
    {
     "name": "stdout",
     "output_type": "stream",
     "text": [
      "(9491, 128)\n"
     ]
    }
   ],
   "source": [
    "t = 88\n",
    "seq_feat = get_mean_feat(ori_feat, 900, 128 - t)\n",
    "frame_feat = pca(ori_feat, t)"
   ]
  },
  {
   "cell_type": "code",
   "execution_count": 17,
   "metadata": {},
   "outputs": [
    {
     "name": "stdout",
     "output_type": "stream",
     "text": [
      "(8541900, 40)\n",
      "(8541900, 88)\n"
     ]
    }
   ],
   "source": [
    "print(seq_feat.shape)\n",
    "print(frame_feat.shape)"
   ]
  },
  {
   "cell_type": "code",
   "execution_count": 18,
   "metadata": {},
   "outputs": [],
   "source": [
    "final_feat = np.concatenate([seq_feat, frame_feat], axis=1)"
   ]
  },
  {
   "cell_type": "code",
   "execution_count": 19,
   "metadata": {},
   "outputs": [
    {
     "data": {
      "text/plain": [
       "(8541900, 128)"
      ]
     },
     "execution_count": 19,
     "metadata": {},
     "output_type": "execute_result"
    }
   ],
   "source": [
    "final_feat.shape"
   ]
  },
  {
   "cell_type": "code",
   "execution_count": 21,
   "metadata": {},
   "outputs": [],
   "source": [
    "np.save(feat_path.replace('.npy', '_concat_mean.npy'), final_feat)"
   ]
  }
 ],
 "metadata": {
  "kernelspec": {
   "display_name": "Python 3.8.12 ('py38': conda)",
   "language": "python",
   "name": "python3"
  },
  "language_info": {
   "codemirror_mode": {
    "name": "ipython",
    "version": 3
   },
   "file_extension": ".py",
   "mimetype": "text/x-python",
   "name": "python",
   "nbconvert_exporter": "python",
   "pygments_lexer": "ipython3",
   "version": "3.8.12"
  },
  "orig_nbformat": 4,
  "vscode": {
   "interpreter": {
    "hash": "7f736f3204584ee688e021cf967f793258c9e4177cdfa2432a7457834e0966b3"
   }
  }
 },
 "nbformat": 4,
 "nbformat_minor": 2
}
