{
 "cells": [
  {
   "cell_type": "code",
   "execution_count": null,
   "id": "30107f7a-dbcd-416d-82aa-28fc5fd71ca9",
   "metadata": {},
   "outputs": [],
   "source": [
    "import copy\n",
    "import mars.tensor as mt\n",
    "import numpy as np\n",
    "from sklearn.utils.extmath import randomized_svd\n",
    "\n",
    "def compute_kernel_bias(vecs):\n",
    "    \"\"\"计算kernel和bias\n",
    "    vecs.shape = [num_samples, embedding_size],\n",
    "    最后的变换: y = (x + bias).dot(kernel)\n",
    "    \"\"\"\n",
    "    \n",
    "    mu = vecs.mean(axis=0, keepdims=True)\n",
    "    cov = np.cov(vecs.T)\n",
    "    u, s, vh = np.linalg.svd(cov)\n",
    "    W = np.dot(u, np.diag(1 / np.sqrt(s)))\n",
    "    return W, -mu\n",
    "\n",
    "def normalize(vecs):\n",
    "    \"\"\"标准化\n",
    "    \"\"\"\n",
    "    return vecs / (vecs**2).sum(axis=1, keepdims=True)**0.5\n",
    "\n",
    "\n",
    "def load(path):\n",
    "    return np.load(path, allow_pickle=True)\n",
    "\n",
    "feat_path1 = \"MABe2022/experiments/12_2n_views/models/net_40000_test_feats.npy\"\n",
    "feat_path2 = \"MABe2022/experiments/12_2n_views/models/net_40000_test_feats.npy\"\n",
    "\n",
    "\n",
    "\n",
    "W, neg_mu = compute_kernel_bias(feat)\n",
    "feat = (feat + neg_mu) @ W\n",
    "feat = normalize(feat)\n",
    "np.save(feat_path.replace('.npy', '_white.npy'), feat)\n",
    "\n"
   ]
  },
  {
   "cell_type": "code",
   "execution_count": 20,
   "id": "a50497f1-232d-4227-b6fd-7fcbd7d07b86",
   "metadata": {},
   "outputs": [
    {
     "data": {
      "text/plain": [
       "(8541900, 128)"
      ]
     },
     "execution_count": 20,
     "metadata": {},
     "output_type": "execute_result"
    }
   ],
   "source": [
    "def transform_and_normalize(vecs, kernel, bias):\n",
    "    \"\"\"应用变换，然后标准化\n",
    "    \"\"\"\n",
    "    if not (kernel is None or bias is None):\n",
    "        vecs = (vecs + bias).dot(kernel)\n",
    "    return normalize(vecs)\n",
    "\n",
    "\n",
    "def normalize(vecs):\n",
    "    \"\"\"标准化\n",
    "    \"\"\"\n",
    "    return vecs / (vecs**2).sum(axis=1, keepdims=True)**0.5"
   ]
  },
  {
   "cell_type": "code",
   "execution_count": 1,
   "id": "1ca56b09-1f42-41e6-86a6-833fe774b63c",
   "metadata": {
    "collapsed": true,
    "jupyter": {
     "outputs_hidden": true
    },
    "tags": []
   },
   "outputs": [
    {
     "name": "stdout",
     "output_type": "stream",
     "text": [
      "Looking in indexes: http://mirrors.aliyun.com/pypi/simple/\n",
      "Collecting pymars\n",
      "  Downloading http://mirrors.aliyun.com/pypi/packages/75/7f/883c445b9dfb68fdd18fb4a33636c82ddf7dc3bf4f80298ba0789d1be5de/pymars-0.8.7-cp37-cp37m-manylinux_2_5_x86_64.manylinux1_x86_64.whl (5.9 MB)\n",
      "\u001b[K     |████████████████████████████████| 5.9 MB 606 kB/s eta 0:00:01\n",
      "\u001b[?25hCollecting numexpr>=2.6.4\n",
      "  Downloading http://mirrors.aliyun.com/pypi/packages/e3/e1/9487858021be74975f6ee6505c8f9c26f78ea24d4e0f8e7875bbe4e31ad6/numexpr-2.8.1-cp37-cp37m-manylinux_2_17_x86_64.manylinux2014_x86_64.whl (379 kB)\n",
      "\u001b[K     |████████████████████████████████| 379 kB 578 kB/s eta 0:00:01\n",
      "\u001b[?25hRequirement already satisfied: scikit-learn>=0.20 in /home/sunchao/anaconda3/envs/torch180/lib/python3.7/site-packages (from pymars) (1.0.1)\n",
      "Requirement already satisfied: tornado>=6.0 in /home/sunchao/anaconda3/envs/torch180/lib/python3.7/site-packages (from pymars) (6.1)\n",
      "Requirement already satisfied: scipy>=1.0.0 in /home/sunchao/anaconda3/envs/torch180/lib/python3.7/site-packages (from pymars) (1.7.2)\n",
      "Requirement already satisfied: psutil>=4.0.0 in /home/sunchao/anaconda3/envs/torch180/lib/python3.7/site-packages (from pymars) (5.9.0)\n",
      "Requirement already satisfied: pyyaml>=5.1 in /home/sunchao/anaconda3/envs/torch180/lib/python3.7/site-packages (from pymars) (6.0)\n",
      "Requirement already satisfied: tqdm>=4.1.0 in /home/sunchao/anaconda3/envs/torch180/lib/python3.7/site-packages (from pymars) (4.62.3)\n",
      "Requirement already satisfied: numpy>=1.14.0 in /home/sunchao/anaconda3/envs/torch180/lib/python3.7/site-packages (from pymars) (1.21.4)\n",
      "Requirement already satisfied: pandas>=1.0.0 in /home/sunchao/anaconda3/envs/torch180/lib/python3.7/site-packages (from pymars) (1.3.4)\n",
      "Collecting shared-memory38>=0.1.1\n",
      "  Downloading http://mirrors.aliyun.com/pypi/packages/4c/c6/f7fb960388f8dbfbd7ed1f603a5e40958ce0aa47c3aad846e82b9788e61b/shared_memory38-0.1.2-cp37-cp37m-manylinux_2_5_x86_64.manylinux1_x86_64.whl (25 kB)\n",
      "Collecting pickle5\n",
      "  Downloading http://mirrors.aliyun.com/pypi/packages/c4/da/b4dabc371e2b287a83b87b65d4428ef6e260bfe2007097dee3efaabe1945/pickle5-0.0.12-cp37-cp37m-manylinux_2_5_x86_64.manylinux1_x86_64.whl (256 kB)\n",
      "\u001b[K     |████████████████████████████████| 256 kB 590 kB/s eta 0:00:01\n",
      "\u001b[?25hCollecting uvloop>=0.14.0\n",
      "  Downloading http://mirrors.aliyun.com/pypi/packages/50/38/2a0825302b207ff694cb501f7868330d004eeb6ee70470c52c00c2d4e6d2/uvloop-0.16.0-cp37-cp37m-manylinux_2_12_x86_64.manylinux2010_x86_64.whl (3.8 MB)\n",
      "\u001b[K     |████████████████████████████████| 3.8 MB 594 kB/s eta 0:00:01\n",
      "\u001b[?25hCollecting cloudpickle>=1.5.0\n",
      "  Downloading http://mirrors.aliyun.com/pypi/packages/25/40/2c9db9cfb85a8a21c61528f6660c47662b3e59576efac610d8268d47abba/cloudpickle-2.1.0-py3-none-any.whl (25 kB)\n",
      "Requirement already satisfied: sqlalchemy>=1.2.0 in /home/sunchao/anaconda3/envs/torch180/lib/python3.7/site-packages (from pymars) (1.4.36)\n",
      "Requirement already satisfied: defusedxml>=0.5.0 in /home/sunchao/anaconda3/envs/torch180/lib/python3.7/site-packages (from pymars) (0.7.1)\n",
      "Requirement already satisfied: packaging in /home/sunchao/anaconda3/envs/torch180/lib/python3.7/site-packages (from numexpr>=2.6.4->pymars) (21.2)\n",
      "Requirement already satisfied: pytz>=2017.3 in /home/sunchao/anaconda3/envs/torch180/lib/python3.7/site-packages (from pandas>=1.0.0->pymars) (2021.3)\n",
      "Requirement already satisfied: python-dateutil>=2.7.3 in /home/sunchao/anaconda3/envs/torch180/lib/python3.7/site-packages (from pandas>=1.0.0->pymars) (2.8.2)\n",
      "Requirement already satisfied: six>=1.5 in /home/sunchao/anaconda3/envs/torch180/lib/python3.7/site-packages (from python-dateutil>=2.7.3->pandas>=1.0.0->pymars) (1.16.0)\n",
      "Requirement already satisfied: threadpoolctl>=2.0.0 in /home/sunchao/anaconda3/envs/torch180/lib/python3.7/site-packages (from scikit-learn>=0.20->pymars) (3.0.0)\n",
      "Requirement already satisfied: joblib>=0.11 in /home/sunchao/anaconda3/envs/torch180/lib/python3.7/site-packages (from scikit-learn>=0.20->pymars) (1.1.0)\n",
      "Requirement already satisfied: importlib-metadata in /home/sunchao/anaconda3/envs/torch180/lib/python3.7/site-packages (from sqlalchemy>=1.2.0->pymars) (4.8.2)\n",
      "Requirement already satisfied: greenlet!=0.4.17 in /home/sunchao/anaconda3/envs/torch180/lib/python3.7/site-packages (from sqlalchemy>=1.2.0->pymars) (1.1.2)\n",
      "Requirement already satisfied: typing-extensions>=3.6.4 in /home/sunchao/anaconda3/envs/torch180/lib/python3.7/site-packages (from importlib-metadata->sqlalchemy>=1.2.0->pymars) (3.10.0.2)\n",
      "Requirement already satisfied: zipp>=0.5 in /home/sunchao/anaconda3/envs/torch180/lib/python3.7/site-packages (from importlib-metadata->sqlalchemy>=1.2.0->pymars) (3.6.0)\n",
      "Requirement already satisfied: pyparsing<3,>=2.0.2 in /home/sunchao/anaconda3/envs/torch180/lib/python3.7/site-packages (from packaging->numexpr>=2.6.4->pymars) (2.4.7)\n",
      "Installing collected packages: uvloop, shared-memory38, pickle5, numexpr, cloudpickle, pymars\n",
      "Successfully installed cloudpickle-2.1.0 numexpr-2.8.1 pickle5-0.0.12 pymars-0.8.7 shared-memory38-0.1.2 uvloop-0.16.0\n"
     ]
    }
   ],
   "source": [
    "# https://github.com/mars-project/mars\n",
    "!pip install pymars"
   ]
  },
  {
   "cell_type": "code",
   "execution_count": null,
   "id": "0ec6684f-8bd4-485f-ba1b-f05ad708b7fa",
   "metadata": {
    "collapsed": true,
    "jupyter": {
     "outputs_hidden": true
    },
    "tags": []
   },
   "outputs": [],
   "source": [
    "import copy\n",
    "import mars\n",
    "# mars.new_session()\n",
    "import mars.tensor as mt\n",
    "import numpy as np\n",
    "\n",
    "def compute_kernel_bias(vecs):\n",
    "    \"\"\"计算kernel和bias\n",
    "    vecs.shape = [num_samples, embedding_size]，\n",
    "    最后的变换：y = (x + bias).dot(kernel)\n",
    "    \"\"\"\n",
    "    \n",
    "    mu = vecs.mean(axis=0, keepdims=True)\n",
    "    cov = np.cov(vecs.T)\n",
    "    cov = mt.array(cov)\n",
    "    u, s, vh = mt.linalg.svd(cov)\n",
    "    W = np.dot(u, np.diag(1 / np.sqrt(s)))\n",
    "    return W, -mu\n",
    "\n",
    "def normalize(vecs):\n",
    "    \"\"\"标准化\n",
    "    \"\"\"\n",
    "    return vecs / (vecs**2).sum(axis=1, keepdims=True)**0.5\n",
    "\n",
    "\n",
    "\n",
    "feat_path = \"MABe2022/experiments/12_2n_views/models/net_40000_test_feats.npy\"\n",
    "# feat = np.load(feat_path, allow_pickle=True)\n",
    "feat = np.ones([4, 128])\n",
    "W, neg_mu = compute_kernel_bias(feat)\n",
    "W, neg_mu = W.to_numpy(), neg_mu.to_numpy()\n",
    "feat = (feat + neg_mu) @ W\n",
    "feat = normalize(feat)\n",
    "np.save(feat_path.replace('.npy', '_white.npy'), feat)"
   ]
  },
  {
   "cell_type": "code",
   "execution_count": 5,
   "id": "bffc49fe-00b7-446f-9a2d-7c6b900721f2",
   "metadata": {},
   "outputs": [
    {
     "name": "stderr",
     "output_type": "stream",
     "text": [
      "/home/sunchao/anaconda3/envs/torch180/lib/python3.7/site-packages/sklearn/utils/extmath.py:376: FutureWarning: If 'random_state' is not supplied, the current default is to use 0 as a fixed seed. This will change to  None in version 1.2 leading to non-deterministic results that better reflect nature of the randomized_svd solver. If you want to silence this warning, set 'random_state' to an integer seed or to None explicitly depending if you want your code to be deterministic or not.\n",
      "  FutureWarning,\n"
     ]
    },
    {
     "name": "stdout",
     "output_type": "stream",
     "text": [
      "W: (128, 128)\n",
      "mu: (1, 128)\n",
      "(8541900, 128)\n"
     ]
    }
   ],
   "source": [
    "import copy\n",
    "from sklearn.utils.extmath import randomized_svd\n",
    "import numpy as np\n",
    "\n",
    "def compute_kernel_bias(vecs):\n",
    "    \"\"\"计算kernel和bias\n",
    "    vecs.shape = [num_samples, embedding_size]，\n",
    "    最后的变换：y = (x + bias).dot(kernel)\n",
    "    \"\"\"\n",
    "    \n",
    "    mu = vecs.mean(axis=0, keepdims=True)\n",
    "    cov = np.cov(vecs.T)\n",
    "    u, s, vh = randomized_svd(cov, 128)\n",
    "    W = np.dot(u, np.diag(1 / np.sqrt(s)))\n",
    "    print('W:', W.shape)\n",
    "    print('mu:', mu.shape)\n",
    "    return W, -mu\n",
    "\n",
    "def normalize(vecs):\n",
    "    \"\"\"标准化\n",
    "    \"\"\"\n",
    "    return vecs / (vecs**2).sum(axis=1, keepdims=True)**0.5\n",
    "\n",
    "\n",
    "feat_path = \"encoder_k/experiments/17_moco_t_k/models/net_50000_test_feats.npy\"\n",
    "feat = np.load(feat_path, allow_pickle=True)\n",
    "# feat = np.random.rand(40000, 128)\n",
    "W, neg_mu = compute_kernel_bias(feat)\n",
    "feat = (feat + neg_mu) @ W\n",
    "feat = normalize(feat).astype(np.float32)\n",
    "print(feat.shape)\n",
    "np.save(feat_path.replace('.npy', '_white.npy'), feat)"
   ]
  },
  {
   "cell_type": "code",
   "execution_count": 1,
   "id": "a7904d41-1013-47a7-b8e8-0141c96c205e",
   "metadata": {},
   "outputs": [
    {
     "ename": "NameError",
     "evalue": "name 'feat_path' is not defined",
     "output_type": "error",
     "traceback": [
      "\u001b[0;31m---------------------------------------------------------------------------\u001b[0m",
      "\u001b[0;31mNameError\u001b[0m                                 Traceback (most recent call last)",
      "\u001b[0;32m/tmp/ipykernel_14680/247232249.py\u001b[0m in \u001b[0;36m<module>\u001b[0;34m\u001b[0m\n\u001b[1;32m      2\u001b[0m \u001b[0mfeat\u001b[0m \u001b[0;34m=\u001b[0m \u001b[0mnp\u001b[0m\u001b[0;34m.\u001b[0m\u001b[0mload\u001b[0m\u001b[0;34m(\u001b[0m\u001b[0;34m\"MABe2022/experiments/12_2n_views/models/net_40000_test_feats_white.npy\"\u001b[0m\u001b[0;34m,\u001b[0m \u001b[0mallow_pickle\u001b[0m\u001b[0;34m=\u001b[0m\u001b[0;32mTrue\u001b[0m\u001b[0;34m)\u001b[0m\u001b[0;34m\u001b[0m\u001b[0;34m\u001b[0m\u001b[0m\n\u001b[1;32m      3\u001b[0m \u001b[0mfeat\u001b[0m \u001b[0;34m=\u001b[0m \u001b[0mfeat\u001b[0m\u001b[0;34m.\u001b[0m\u001b[0mastype\u001b[0m\u001b[0;34m(\u001b[0m\u001b[0mnp\u001b[0m\u001b[0;34m.\u001b[0m\u001b[0mfloat32\u001b[0m\u001b[0;34m)\u001b[0m\u001b[0;34m\u001b[0m\u001b[0;34m\u001b[0m\u001b[0m\n\u001b[0;32m----> 4\u001b[0;31m \u001b[0mnp\u001b[0m\u001b[0;34m.\u001b[0m\u001b[0msave\u001b[0m\u001b[0;34m(\u001b[0m\u001b[0mfeat_path\u001b[0m\u001b[0;34m.\u001b[0m\u001b[0mreplace\u001b[0m\u001b[0;34m(\u001b[0m\u001b[0;34m'.npy'\u001b[0m\u001b[0;34m,\u001b[0m \u001b[0;34m'_white.npy'\u001b[0m\u001b[0;34m)\u001b[0m\u001b[0;34m,\u001b[0m \u001b[0mfeat\u001b[0m\u001b[0;34m)\u001b[0m\u001b[0;34m\u001b[0m\u001b[0;34m\u001b[0m\u001b[0m\n\u001b[0m",
      "\u001b[0;31mNameError\u001b[0m: name 'feat_path' is not defined"
     ]
    }
   ],
   "source": [
    "import numpy as np\n",
    "feat = np.load(\"MABe2022/experiments/12_2n_views/models/net_40000_test_feats_white.npy\", allow_pickle=True)\n",
    "feat = feat.astype(np.float32)\n"
   ]
  },
  {
   "cell_type": "code",
   "execution_count": 2,
   "id": "3ec031ef-af0a-4dfd-9e2b-05b6bcd3b035",
   "metadata": {},
   "outputs": [],
   "source": [
    "feat_path = \"MABe2022/experiments/12_2n_views/models/net_40000_test_feats.npy\"\n",
    "np.save(feat_path.replace('.npy', '_white.npy'), feat)"
   ]
  },
  {
   "cell_type": "code",
   "execution_count": 4,
   "id": "9415867b-714a-4490-804e-4447139f09a0",
   "metadata": {},
   "outputs": [],
   "source": [
    "feat_path = \"MABe2022/experiments/12_2n_views/models/net_40000_test_feats_white_dim64.npy\"\n",
    "np.save(feat_path, feat[:, :64])"
   ]
  },
  {
   "cell_type": "markdown",
   "id": "608587e3",
   "metadata": {},
   "source": [
    "## a23 36k 50k"
   ]
  },
  {
   "cell_type": "code",
   "execution_count": null,
   "id": "59bbba89",
   "metadata": {},
   "outputs": [],
   "source": [
    "import copy\n",
    "from sklearn.utils.extmath import randomized_svd\n",
    "import torch\n",
    "import numpy as np\n",
    "\n",
    "def compute_kernel_bias(vecs, n_components=256):\n",
    "    \"\"\"计算kernel和bias\n",
    "    vecs.shape = [num_samples, embedding_size]，\n",
    "    最后的变换：y = (x + bias).dot(kernel)\n",
    "    \"\"\"\n",
    "    \n",
    "    mu = vecs.mean(axis=0, keepdims=True)\n",
    "    cov = np.cov(vecs.T)\n",
    "    u, s, vh = randomized_svd(cov, 256)\n",
    "    W = np.dot(u, np.diag(1 / np.sqrt(s)))\n",
    "    print('W:', W.shape)\n",
    "    print('mu:', mu.shape)\n",
    "    return W[:, :n_components], -mu\n",
    "\n",
    "def normalize(vecs):\n",
    "    \"\"\"标准化\n",
    "    \"\"\"\n",
    "    return vecs / (vecs**2).sum(axis=1, keepdims=True)**0.5\n",
    "\n",
    "\n",
    "def load(path):\n",
    "    return np.load(path, allow_pickle=True)\n",
    "\n",
    "feat_path1 = \"/home/sunchao/cyy/23_remove_fn/models/net_36000_test_feats.npy\"\n",
    "feat_path2 = \"/home/sunchao/cyy/23_remove_fn/models/net_50000_test_feats_encoder_k.npy\"\n",
    "\n",
    "feat1 = load(feat_path1)\n",
    "feat2 = load(feat_path2)\n",
    "print('Loading finished')\n",
    "feat = np.concatenate([feat1, feat2], axis=1)\n",
    "# feat = np.random.rand(40000, 128)\n",
    "W, neg_mu = compute_kernel_bias(feat, 128)\n",
    "feat = (feat + neg_mu) @ W\n",
    "feat = normalize(feat).astype(np.float32)\n",
    "print(feat.shape)\n",
    "np.save(feat_path1.replace('36000_test_feats.npy', '36_50_white.npy'), feat)"
   ]
  }
 ],
 "metadata": {
  "interpreter": {
   "hash": "1d92dc05a5e9a0286412cdfde415fdd9e2961f964f1be1ec5dd88788ee4e6cce"
  },
  "kernelspec": {
   "display_name": "Python 3 (ipykernel)",
   "language": "python",
   "name": "python3"
  },
  "language_info": {
   "codemirror_mode": {
    "name": "ipython",
    "version": 3
   },
   "file_extension": ".py",
   "mimetype": "text/x-python",
   "name": "python",
   "nbconvert_exporter": "python",
   "pygments_lexer": "ipython3",
   "version": "3.7.11"
  }
 },
 "nbformat": 4,
 "nbformat_minor": 5
}
