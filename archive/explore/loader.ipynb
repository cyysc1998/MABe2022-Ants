{
 "cells": [
  {
   "cell_type": "code",
   "execution_count": 1,
   "metadata": {},
   "outputs": [],
   "source": [
    "import cv2\n",
    "import os\n",
    "import torch\n",
    "import torchvision.transforms as T\n",
    "from matplotlib import pyplot as plt"
   ]
  },
  {
   "cell_type": "code",
   "execution_count": 5,
   "metadata": {},
   "outputs": [],
   "source": [
    "class TemporalDifference(object):\n",
    "    \"\"\"blur a single image on CPU\"\"\"\n",
    "    def __init__(self, p=0.5):\n",
    "       self.p = p\n",
    "\n",
    "    def __call__(self, img):\n",
    "        img = img[None, ...]\n",
    "        assert len(img.shape) == 4, f\"Img shape is {img.shape}\"\n",
    "        B, C, H, W = img.shape\n",
    "        if torch.rand(1) < self.p:\n",
    "            img = img.permute(1, 0, 2, 3)\n",
    "            img[1:] = img[1:] - img[0:C-1]\n",
    "            img = img.permute(1, 0, 2, 3)\n",
    "        \n",
    "        return img"
   ]
  },
  {
   "cell_type": "code",
   "execution_count": 6,
   "metadata": {},
   "outputs": [],
   "source": [
    "folder_path = '/home/sunchao/Multi_Agent_Round_2/data/ants/frames_cropped_224'\n",
    "folder_list = os.listdir(folder_path)\n",
    "img_list = [\n",
    "    os.path.join(folder_path, folder, '0.jpg') for folder in folder_list\n",
    "]\n",
    "\n",
    "\n",
    "transforms = T.Compose([\n",
    "        T.ToTensor(),\n",
    "        T.RandomResizedCrop(size=224, scale=(0.25, 1.0)),\n",
    "        T.RandomHorizontalFlip(),\n",
    "        T.RandomVerticalFlip(),\n",
    "        TemporalDifference(p=0.5),\n",
    "])\n",
    "\n"
   ]
  },
  {
   "cell_type": "code",
   "execution_count": null,
   "metadata": {},
   "outputs": [],
   "source": [
    "img_num = 10\n",
    "\n",
    "for img_path in img_list[:img_num]:\n",
    "    img = cv2.imread(img_path)\n",
    "    img = cv2.cvtColor(img, cv2.COLOR_BGR2RGB)\n",
    "    img = transforms(img)\n",
    "    img = img.permute(1, 2, 0)\n",
    "    plt.imshow(img)\n",
    "    plt.show()"
   ]
  },
  {
   "cell_type": "code",
   "execution_count": 7,
   "metadata": {},
   "outputs": [
    {
     "ename": "AssertionError",
     "evalue": "Img shape is torch.Size([3, 224, 224])",
     "output_type": "error",
     "traceback": [
      "\u001b[0;31m---------------------------------------------------------------------------\u001b[0m",
      "\u001b[0;31mAssertionError\u001b[0m                            Traceback (most recent call last)",
      "\u001b[1;32m/home/sunchao/Multi_Agent_Round_2/loader.ipynb Cell 5'\u001b[0m in \u001b[0;36m<cell line: 4>\u001b[0;34m()\u001b[0m\n\u001b[1;32m      <a href='vscode-notebook-cell://ssh-remote%2Bwukong/home/sunchao/Multi_Agent_Round_2/loader.ipynb#ch0000003vscode-remote?line=4'>5</a>\u001b[0m img \u001b[39m=\u001b[39m cv2\u001b[39m.\u001b[39mimread(img_list[img_idx])\n\u001b[1;32m      <a href='vscode-notebook-cell://ssh-remote%2Bwukong/home/sunchao/Multi_Agent_Round_2/loader.ipynb#ch0000003vscode-remote?line=5'>6</a>\u001b[0m img \u001b[39m=\u001b[39m cv2\u001b[39m.\u001b[39mcvtColor(img, cv2\u001b[39m.\u001b[39mCOLOR_BGR2RGB)\n\u001b[0;32m----> <a href='vscode-notebook-cell://ssh-remote%2Bwukong/home/sunchao/Multi_Agent_Round_2/loader.ipynb#ch0000003vscode-remote?line=6'>7</a>\u001b[0m img \u001b[39m=\u001b[39m transforms(img)\n\u001b[1;32m      <a href='vscode-notebook-cell://ssh-remote%2Bwukong/home/sunchao/Multi_Agent_Round_2/loader.ipynb#ch0000003vscode-remote?line=7'>8</a>\u001b[0m img \u001b[39m=\u001b[39m img\u001b[39m.\u001b[39mpermute(\u001b[39m1\u001b[39m, \u001b[39m2\u001b[39m, \u001b[39m0\u001b[39m)\n\u001b[1;32m      <a href='vscode-notebook-cell://ssh-remote%2Bwukong/home/sunchao/Multi_Agent_Round_2/loader.ipynb#ch0000003vscode-remote?line=8'>9</a>\u001b[0m plt\u001b[39m.\u001b[39mimshow(img)\n",
      "File \u001b[0;32m~/anaconda3/envs/py38/lib/python3.8/site-packages/torchvision/transforms/transforms.py:60\u001b[0m, in \u001b[0;36mCompose.__call__\u001b[0;34m(self, img)\u001b[0m\n\u001b[1;32m     58\u001b[0m \u001b[39mdef\u001b[39;00m \u001b[39m__call__\u001b[39m(\u001b[39mself\u001b[39m, img):\n\u001b[1;32m     59\u001b[0m     \u001b[39mfor\u001b[39;00m t \u001b[39min\u001b[39;00m \u001b[39mself\u001b[39m\u001b[39m.\u001b[39mtransforms:\n\u001b[0;32m---> 60\u001b[0m         img \u001b[39m=\u001b[39m t(img)\n\u001b[1;32m     61\u001b[0m     \u001b[39mreturn\u001b[39;00m img\n",
      "\u001b[1;32m/home/sunchao/Multi_Agent_Round_2/loader.ipynb Cell 2'\u001b[0m in \u001b[0;36mTemporalDifference.__call__\u001b[0;34m(self, img)\u001b[0m\n\u001b[1;32m      <a href='vscode-notebook-cell://ssh-remote%2Bwukong/home/sunchao/Multi_Agent_Round_2/loader.ipynb#ch0000004vscode-remote?line=5'>6</a>\u001b[0m \u001b[39mdef\u001b[39;00m \u001b[39m__call__\u001b[39m(\u001b[39mself\u001b[39m, img):\n\u001b[0;32m----> <a href='vscode-notebook-cell://ssh-remote%2Bwukong/home/sunchao/Multi_Agent_Round_2/loader.ipynb#ch0000004vscode-remote?line=6'>7</a>\u001b[0m     \u001b[39massert\u001b[39;00m \u001b[39mlen\u001b[39m(img\u001b[39m.\u001b[39mshape) \u001b[39m==\u001b[39m \u001b[39m4\u001b[39m, \u001b[39mf\u001b[39m\u001b[39m\"\u001b[39m\u001b[39mImg shape is \u001b[39m\u001b[39m{\u001b[39;00mimg\u001b[39m.\u001b[39mshape\u001b[39m}\u001b[39;00m\u001b[39m\"\u001b[39m\n\u001b[1;32m      <a href='vscode-notebook-cell://ssh-remote%2Bwukong/home/sunchao/Multi_Agent_Round_2/loader.ipynb#ch0000004vscode-remote?line=7'>8</a>\u001b[0m     B, C, H, W \u001b[39m=\u001b[39m img\u001b[39m.\u001b[39mshape\n\u001b[1;32m      <a href='vscode-notebook-cell://ssh-remote%2Bwukong/home/sunchao/Multi_Agent_Round_2/loader.ipynb#ch0000004vscode-remote?line=8'>9</a>\u001b[0m     \u001b[39mif\u001b[39;00m torch\u001b[39m.\u001b[39mrand(\u001b[39m1\u001b[39m) \u001b[39m<\u001b[39m \u001b[39mself\u001b[39m\u001b[39m.\u001b[39mp:\n",
      "\u001b[0;31mAssertionError\u001b[0m: Img shape is torch.Size([3, 224, 224])"
     ]
    }
   ],
   "source": [
    "num_repeat = 10\n",
    "img_idx = 3290\n",
    "\n",
    "for i in range(num_repeat):\n",
    "    img = cv2.imread(img_list[img_idx])\n",
    "    img = cv2.cvtColor(img, cv2.COLOR_BGR2RGB)\n",
    "    img = transforms(img)\n",
    "    img = img.permute(1, 2, 0)\n",
    "    plt.imshow(img)\n",
    "    plt.show()"
   ]
  }
 ],
 "metadata": {
  "kernelspec": {
   "display_name": "Python 3.8.12 ('py38': conda)",
   "language": "python",
   "name": "python3"
  },
  "language_info": {
   "codemirror_mode": {
    "name": "ipython",
    "version": 3
   },
   "file_extension": ".py",
   "mimetype": "text/x-python",
   "name": "python",
   "nbconvert_exporter": "python",
   "pygments_lexer": "ipython3",
   "version": "3.8.12"
  },
  "orig_nbformat": 4,
  "vscode": {
   "interpreter": {
    "hash": "7f736f3204584ee688e021cf967f793258c9e4177cdfa2432a7457834e0966b3"
   }
  }
 },
 "nbformat": 4,
 "nbformat_minor": 2
}
