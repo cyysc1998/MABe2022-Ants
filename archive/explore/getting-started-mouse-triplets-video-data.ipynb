{
 "cells": [
  {
   "cell_type": "markdown",
   "metadata": {
    "id": "9zh6uKgOxAnz"
   },
   "source": [
    "![Banner](https://images.aicrowd.com/uploads/ckeditor/pictures/816/content_Link_Preview-2.jpg)\n",
    "\n"
   ]
  },
  {
   "cell_type": "markdown",
   "metadata": {
    "id": "tXNRjVayyR2l"
   },
   "source": [
    "# How to use this notebook 📝\n",
    "\n",
    "1. **Copy the notebook**. This is a shared template and any edits you make here will not be saved. _You should copy it into your own drive folder._ For this, click the \"File\" menu (top-left), then \"Save a Copy in Drive\". You can edit your copy however you like.\n",
    "2. **Link it to your AIcrowd account**. In order to submit your predictions to AIcrowd, you need to provide your account's API key.\n",
    "\n"
   ]
  },
  {
   "cell_type": "markdown",
   "metadata": {
    "id": "K2UCQdg9yBIy"
   },
   "source": [
    "![Problem Statement](https://images.aicrowd.com/uploads/ckeditor/pictures/711/content_embedding_problem_statement.png)\n",
    "\n",
    "\n",
    "\n",
    "<p align=\"center\"> Join the AIcrowd Discord Server! <br><a href=\"https://discord.gg/GTckBMx\"><img src=\"https://img.shields.io/discord/657211973435392011?style=for-the-badge\" alt=\"chat on Discord\"></a>\n",
    "</p>"
   ]
  },
  {
   "cell_type": "markdown",
   "metadata": {
    "id": "fOsJQCoRvTRY"
   },
   "source": [
    "# Setup AIcrowd Utilities 🛠"
   ]
  },
  {
   "cell_type": "code",
   "execution_count": 1,
   "metadata": {
    "colab": {
     "base_uri": "https://localhost:8080/",
     "height": 1000
    },
    "executionInfo": {
     "elapsed": 7178,
     "status": "ok",
     "timestamp": 1649161047853,
     "user": {
      "displayName": "Dipam Chakraborty",
      "userId": "04496869744334527762"
     },
     "user_tz": -330
    },
    "id": "jCKS_X_KvTRY",
    "outputId": "a65172e0-9924-4db8-a278-c5c8b7827118"
   },
   "outputs": [
    {
     "name": "stdout",
     "output_type": "stream",
     "text": [
      "Looking in indexes: http://mirrors.aliyun.com/pypi/simple/\n",
      "Collecting aicrowd-cli\n",
      "  Downloading http://mirrors.aliyun.com/pypi/packages/b3/42/724b6be79a7c054b0f4fa5afefd6293a3c9bde8080c36b9fee96e43a3357/aicrowd_cli-0.1.15-py3-none-any.whl (51 kB)\n",
      "\u001b[K     |████████████████████████████████| 51 kB 4.1 MB/s eta 0:00:011\n",
      "\u001b[?25hRequirement already satisfied: requests<3,>=2.25.1 in /home/sunchao/anaconda3/envs/torch180/lib/python3.7/site-packages (from aicrowd-cli) (2.26.0)\n",
      "Collecting pyzmq==22.1.0\n",
      "  Downloading http://mirrors.aliyun.com/pypi/packages/2d/4b/256767441a6c4223fbc7c3eab1b3762d9d70b657899d844228a782f48af3/pyzmq-22.1.0-cp37-cp37m-manylinux1_x86_64.whl (1.1 MB)\n",
      "\u001b[K     |████████████████████████████████| 1.1 MB 3.3 MB/s eta 0:00:01\n",
      "\u001b[?25hRequirement already satisfied: tqdm<5,>=4.56.0 in /home/sunchao/anaconda3/envs/torch180/lib/python3.7/site-packages (from aicrowd-cli) (4.62.3)\n",
      "Collecting click<8,>=7.1.2\n",
      "  Downloading http://mirrors.aliyun.com/pypi/packages/d2/3d/fa76db83bf75c4f8d338c2fd15c8d33fdd7ad23a9b5e57eb6c5de26b430e/click-7.1.2-py2.py3-none-any.whl (82 kB)\n",
      "\u001b[K     |████████████████████████████████| 82 kB 5.8 MB/s eta 0:00:011\n",
      "\u001b[?25hCollecting GitPython==3.1.18\n",
      "  Downloading http://mirrors.aliyun.com/pypi/packages/bc/91/b38c4fabb6e5092ab23492ded4f318ab7299b19263272b703478038c0fbc/GitPython-3.1.18-py3-none-any.whl (170 kB)\n",
      "\u001b[K     |████████████████████████████████| 170 kB 5.6 MB/s eta 0:00:01\n",
      "\u001b[?25hCollecting semver<3,>=2.13.0\n",
      "  Downloading http://mirrors.aliyun.com/pypi/packages/0b/70/b84f9944a03964a88031ef6ac219b6c91e8ba2f373362329d8770ef36f02/semver-2.13.0-py2.py3-none-any.whl (12 kB)\n",
      "Collecting toml<1,>=0.10.2\n",
      "  Downloading http://mirrors.aliyun.com/pypi/packages/44/6f/7120676b6d73228c96e17f1f794d8ab046fc910d781c8d151120c3f1569e/toml-0.10.2-py2.py3-none-any.whl (16 kB)\n",
      "Collecting python-slugify<6,>=5.0.0\n",
      "  Downloading http://mirrors.aliyun.com/pypi/packages/7e/e2/0c8be1e3b237d11f10963c7cef82e4d98d70ca6e176f3922dddf7bfc7026/python_slugify-5.0.2-py2.py3-none-any.whl (6.7 kB)\n",
      "Collecting rich<11,>=10.0.0\n",
      "  Downloading http://mirrors.aliyun.com/pypi/packages/0a/0d/58939059015dce00122b008c3edccbb68f0767126020c939116e6d764cd7/rich-10.16.2-py3-none-any.whl (214 kB)\n",
      "\u001b[K     |████████████████████████████████| 214 kB 5.7 MB/s eta 0:00:01\n",
      "\u001b[?25hCollecting requests-toolbelt<1,>=0.9.1\n",
      "  Downloading http://mirrors.aliyun.com/pypi/packages/60/ef/7681134338fc097acef8d9b2f8abe0458e4d87559c689a8c306d0957ece5/requests_toolbelt-0.9.1-py2.py3-none-any.whl (54 kB)\n",
      "\u001b[K     |████████████████████████████████| 54 kB 14.2 MB/s eta 0:00:01\n",
      "\u001b[?25hRequirement already satisfied: gitdb<5,>=4.0.1 in /home/sunchao/anaconda3/envs/torch180/lib/python3.7/site-packages (from GitPython==3.1.18->aicrowd-cli) (4.0.9)\n",
      "Requirement already satisfied: typing-extensions>=3.7.4.0 in /home/sunchao/anaconda3/envs/torch180/lib/python3.7/site-packages (from GitPython==3.1.18->aicrowd-cli) (3.10.0.2)\n",
      "Requirement already satisfied: smmap<6,>=3.0.1 in /home/sunchao/anaconda3/envs/torch180/lib/python3.7/site-packages (from gitdb<5,>=4.0.1->GitPython==3.1.18->aicrowd-cli) (5.0.0)\n",
      "Collecting text-unidecode>=1.3\n",
      "  Downloading http://mirrors.aliyun.com/pypi/packages/a6/a5/c0b6468d3824fe3fde30dbb5e1f687b291608f9473681bbf7dabbf5a87d7/text_unidecode-1.3-py2.py3-none-any.whl (78 kB)\n",
      "\u001b[K     |████████████████████████████████| 78 kB 5.9 MB/s eta 0:00:011\n",
      "\u001b[?25hRequirement already satisfied: idna<4,>=2.5 in /home/sunchao/anaconda3/envs/torch180/lib/python3.7/site-packages (from requests<3,>=2.25.1->aicrowd-cli) (3.3)\n",
      "Requirement already satisfied: charset-normalizer~=2.0.0 in /home/sunchao/anaconda3/envs/torch180/lib/python3.7/site-packages (from requests<3,>=2.25.1->aicrowd-cli) (2.0.7)\n",
      "Requirement already satisfied: certifi>=2017.4.17 in /home/sunchao/anaconda3/envs/torch180/lib/python3.7/site-packages (from requests<3,>=2.25.1->aicrowd-cli) (2021.10.8)\n",
      "Requirement already satisfied: urllib3<1.27,>=1.21.1 in /home/sunchao/anaconda3/envs/torch180/lib/python3.7/site-packages (from requests<3,>=2.25.1->aicrowd-cli) (1.26.7)\n",
      "Collecting commonmark<0.10.0,>=0.9.0\n",
      "  Downloading http://mirrors.aliyun.com/pypi/packages/b1/92/dfd892312d822f36c55366118b95d914e5f16de11044a27cf10a7d71bbbf/commonmark-0.9.1-py2.py3-none-any.whl (51 kB)\n",
      "\u001b[K     |████████████████████████████████| 51 kB 1.3 MB/s eta 0:00:011\n",
      "\u001b[?25hRequirement already satisfied: pygments<3.0.0,>=2.6.0 in /home/sunchao/anaconda3/envs/torch180/lib/python3.7/site-packages (from rich<11,>=10.0.0->aicrowd-cli) (2.10.0)\n",
      "Requirement already satisfied: colorama<0.5.0,>=0.4.0 in /home/sunchao/anaconda3/envs/torch180/lib/python3.7/site-packages/colorama-0.4.4-py3.7.egg (from rich<11,>=10.0.0->aicrowd-cli) (0.4.4)\n",
      "Installing collected packages: text-unidecode, commonmark, toml, semver, rich, requests-toolbelt, pyzmq, python-slugify, GitPython, click, aicrowd-cli\n",
      "  Attempting uninstall: pyzmq\n",
      "    Found existing installation: pyzmq 22.3.0\n",
      "    Uninstalling pyzmq-22.3.0:\n",
      "      Successfully uninstalled pyzmq-22.3.0\n",
      "  Attempting uninstall: GitPython\n",
      "    Found existing installation: GitPython 3.1.27\n",
      "    Uninstalling GitPython-3.1.27:\n",
      "      Successfully uninstalled GitPython-3.1.27\n",
      "  Attempting uninstall: click\n",
      "    Found existing installation: click 8.0.3\n",
      "    Uninstalling click-8.0.3:\n",
      "      Successfully uninstalled click-8.0.3\n",
      "Successfully installed GitPython-3.1.18 aicrowd-cli-0.1.15 click-7.1.2 commonmark-0.9.1 python-slugify-5.0.2 pyzmq-22.1.0 requests-toolbelt-0.9.1 rich-10.16.2 semver-2.13.0 text-unidecode-1.3 toml-0.10.2\n"
     ]
    }
   ],
   "source": [
    "!pip install -U aicrowd-cli\n",
    "%load_ext aicrowd.magic"
   ]
  },
  {
   "cell_type": "markdown",
   "metadata": {
    "id": "zqraoVVX4EBb"
   },
   "source": [
    "\n",
    "## Login to AIcrowd ㊗¶\n"
   ]
  },
  {
   "cell_type": "code",
   "execution_count": 2,
   "metadata": {
    "colab": {
     "base_uri": "https://localhost:8080/"
    },
    "executionInfo": {
     "elapsed": 38084,
     "status": "ok",
     "timestamp": 1649161091302,
     "user": {
      "displayName": "Dipam Chakraborty",
      "userId": "04496869744334527762"
     },
     "user_tz": -330
    },
    "id": "9TkEMV3g3_XV",
    "outputId": "3377d24b-d074-4ed4-d7af-6f50947dfde1",
    "scrolled": true
   },
   "outputs": [
    {
     "name": "stdout",
     "output_type": "stream",
     "text": [
      "Please login here: \u001b[34m\u001b[1m\u001b[4mhttps://api.aicrowd.com/auth/RjNINlLEGeP_77-Y5M3hIayowJm20mJYcjxPEK3x32k\u001b[0m\n",
      "\u001b[32mAPI Key valid\u001b[0m\n",
      "\u001b[32mGitlab access token valid\u001b[0m\n",
      "\u001b[32mSaved details successfully!\u001b[0m\n"
     ]
    }
   ],
   "source": [
    "%aicrowd login"
   ]
  },
  {
   "cell_type": "markdown",
   "metadata": {
    "id": "LuQQrNvkID8J"
   },
   "source": [
    "# Install packages 🗃\n",
    "\n",
    "Please add all pacakages installations in this section"
   ]
  },
  {
   "cell_type": "code",
   "execution_count": 3,
   "metadata": {
    "colab": {
     "base_uri": "https://localhost:8080/"
    },
    "executionInfo": {
     "elapsed": 1899,
     "status": "ok",
     "timestamp": 1649161093190,
     "user": {
      "displayName": "Dipam Chakraborty",
      "userId": "04496869744334527762"
     },
     "user_tz": -330
    },
    "id": "ImeJ0KcawT1P",
    "outputId": "d4599c8d-d48c-4c05-871a-a74dd4f78e14"
   },
   "outputs": [
    {
     "name": "stdout",
     "output_type": "stream",
     "text": [
      "Looking in indexes: http://mirrors.aliyun.com/pypi/simple/\n",
      "Requirement already satisfied: torch in /home/sunchao/anaconda3/envs/torch180/lib/python3.7/site-packages (1.8.0+cu111)\n",
      "Requirement already satisfied: torchvision in /home/sunchao/anaconda3/envs/torch180/lib/python3.7/site-packages (0.9.0+cu111)\n",
      "Requirement already satisfied: tqdm in /home/sunchao/anaconda3/envs/torch180/lib/python3.7/site-packages (4.62.3)\n",
      "Requirement already satisfied: numpy in /home/sunchao/anaconda3/envs/torch180/lib/python3.7/site-packages (from torch) (1.21.4)\n",
      "Requirement already satisfied: typing-extensions in /home/sunchao/anaconda3/envs/torch180/lib/python3.7/site-packages (from torch) (3.10.0.2)\n",
      "Requirement already satisfied: pillow>=4.1.1 in /home/sunchao/anaconda3/envs/torch180/lib/python3.7/site-packages (from torchvision) (8.4.0)\n"
     ]
    }
   ],
   "source": [
    "!pip install torch torchvision tqdm"
   ]
  },
  {
   "cell_type": "markdown",
   "metadata": {
    "id": "jsaWsU8dILfN"
   },
   "source": [
    "# Import necessary modules and packages 📚\n"
   ]
  },
  {
   "cell_type": "code",
   "execution_count": 4,
   "metadata": {
    "id": "G4CVVoCjIN95"
   },
   "outputs": [],
   "source": [
    "import os\n",
    "import cv2\n",
    "import numpy as np\n",
    "from tqdm.auto import tqdm\n",
    "\n",
    "import torch\n",
    "import torchvision\n",
    "import torchvision.transforms as T\n",
    "\n",
    "import copy\n",
    "import matplotlib.pyplot as plt\n",
    "from matplotlib import animation\n",
    "from matplotlib import colors\n",
    "from matplotlib import rc\n",
    "from matplotlib import rcParams"
   ]
  },
  {
   "cell_type": "markdown",
   "metadata": {
    "id": "O4Je80_WYS7F"
   },
   "source": [
    "# Download and prepare the dataset 🔍"
   ]
  },
  {
   "cell_type": "code",
   "execution_count": 5,
   "metadata": {
    "id": "CIuB4eRvY38C"
   },
   "outputs": [],
   "source": [
    "aicrowd_challenge_name = \"mabe-2022-mouse-triplets-video-data\"\n",
    "if not os.path.exists('data'):\n",
    "  os.mkdir('data')\n",
    "\n",
    "datafolder = '/home/sunchao/cyy/mouse_data'\n",
    "\n",
    "## If data is already downloaded and stored on google drive, skip the download and point to the prepared directory\n",
    "# datafolder = '/content/drive/MyDrive/mabe-2022-mouse-triplets-video/data/'\n",
    "\n",
    "video_folder = f'{datafolder}video_clips/'"
   ]
  },
  {
   "cell_type": "code",
   "execution_count": null,
   "metadata": {
    "colab": {
     "base_uri": "https://localhost:8080/",
     "height": 209,
     "referenced_widgets": [
      "f3d850ee4c624ee69ee97671274bc112",
      "42c1aadca08842a6a7e71d886a562d1d",
      "c300ffdd25e44df089a2d8e1f946403d",
      "be1e01350e5c47d7ad84d78b372cb9b8",
      "e7a655c812414ea4be83760fc3a88a93",
      "5b768597dc1a476ea42d4e41816abf94",
      "486c0029ffaf4ef9ba59e28a0ec20c67",
      "12476da3c003403fa939543c692b87ac",
      "b01b303d85cc48daa5c0e15348567468",
      "904a6efc737e4b42ae9f8b1ff6933e85",
      "b0e8b7cdfc1b4442b98a96c24301199f",
      "24199abc3cf84607b29f31d89f72416d",
      "9df611dc3ffa4d35aa39b3d7dbed0bb1",
      "a4a6473691ba479fb9951638048e8dd5",
      "b447b6ca3dd74502ba734c1939f5dcda",
      "4270379184b24173ab496b59babb7cd3",
      "9a9815aec50a479d8ff731f2ab81ef0f",
      "d649896642354c479370eb07296bd0d9",
      "66a05802b74245c5a9264db950100254",
      "48b9317d67144379aaab14d81b49343d",
      "fcd4c42e0eeb4bb7be6f1eb80eda5581",
      "9fbf98379b564b88802b8b600e3d3864",
      "b2bc15d6c82a468eb9c8c42a318340ea",
      "0676bd7d543d43e482d1403b8c3637d2",
      "45a37c0b19624ce3a9741e65a031cbf2",
      "4b618b9fcea34f5f9013da86747eb857",
      "48b6d04dff34491f86b713019890003d",
      "1060ee6f024b4d9da7128da9ee38d53f",
      "04f381e4378d4a62b7ff5f78c2ddcd69",
      "55fa89a7cb3741c99540b15f119a225c",
      "438d3003ddfb4cd8aa15f16b10d5fc9c",
      "a8f7b027ac1140cfa1218889b0dc08b4",
      "7a6e76302f484b8584bba7eeb74871d6",
      "97fca5b8bf6f424bbe9c8cbe4eb1d814",
      "d812727782824881b3a1b61396cff947",
      "0b3cb796c0614728b9d7b34bd3eb502e",
      "49989b716e2d4cba92cd5d4a6d815691",
      "09d0e176fad746929a0ea5f4ed7332c1",
      "7d22c936f6c7442fa708e53f9e217f1b",
      "6a89705d8880413d9f844d7c149ea017",
      "ba39418835c04371b42806cbf9f5c71b",
      "8752dae11d7d40c88346781864b3d92c",
      "bd59b04353164204b26e4905fcfd16aa",
      "a77e784f126a4edf81ec1e2fd1edeba9",
      "2116de1d1cc54b518988dc66d731dd11",
      "4c44691d03094c1eb231bdd1c6ea9cf3",
      "534cbe02f3d74b0d869357d12ad12da5",
      "d12548fc28534ceda6ad1ad362127df1",
      "582c34e608784379b205a42e2ca3bf00",
      "141482124f064d52b3a4daad9c4333fb",
      "00e1d7ad21284b50abf13678d2bccbda",
      "64b7a80abbae43aca46a3af6bfac2d51",
      "a7ea6a76c7da43f8bc5cd6cec8810096",
      "a5ff7c6da4e745629625f12e885e5450",
      "449f9ea3d5024a15a916c8ade8f66ddd",
      "f89c9a11610343c2ac3146f7dec15d6f",
      "c49a1382353e48c9b1d7b7315d8a6b98",
      "da7efb77d31a416d938d359ba8cf543c",
      "9c0243b2c86b4039a93c4ae0ab536f30",
      "d18968183ca7409cb4fde97109497e8d",
      "be5d6c6be7a24aec8879ac8bc4f0e023",
      "7c2353ec9ae64601ba22dd0651b1167b",
      "4d49f6ae133e4880a8a0e9ba816b4230",
      "4db5081cc8e145f3886902007f9109fc",
      "4d00b214c0724c198bea094acaf67fca",
      "3a7c2189c3fd43cb85bed6e858898b4b"
     ]
    },
    "executionInfo": {
     "elapsed": 816953,
     "status": "ok",
     "timestamp": 1649161916370,
     "user": {
      "displayName": "Dipam Chakraborty",
      "userId": "04496869744334527762"
     },
     "user_tz": -330
    },
    "id": "f09oa5LMzNve",
    "outputId": "66aba478-8715-4815-f6f6-ddafb4520fa6"
   },
   "outputs": [
    {
     "data": {
      "application/vnd.jupyter.widget-view+json": {
       "model_id": "7a0fa0954f1840a8acc319cb3cd9a050",
       "version_major": 2,
       "version_minor": 0
      },
      "text/plain": [
       "submission_keypoints.npy:   0%|          | 0.00/949M [00:00<?, ?B/s]"
      ]
     },
     "metadata": {},
     "output_type": "display_data"
    },
    {
     "data": {
      "application/vnd.jupyter.widget-view+json": {
       "model_id": "01bab2dba2274446bbe494a80efc2bcc",
       "version_major": 2,
       "version_minor": 0
      },
      "text/plain": [
       "sample_submission.npy:   0%|          | 0.00/65.9M [00:00<?, ?B/s]"
      ]
     },
     "metadata": {},
     "output_type": "display_data"
    },
    {
     "data": {
      "application/vnd.jupyter.widget-view+json": {
       "model_id": "530de477b85f4cf0baec78c0e7e8dfe3",
       "version_major": 2,
       "version_minor": 0
      },
      "text/plain": [
       "user_train.npy:   0%|          | 0.00/418M [00:00<?, ?B/s]"
      ]
     },
     "metadata": {},
     "output_type": "display_data"
    },
    {
     "data": {
      "application/vnd.jupyter.widget-view+json": {
       "model_id": "5a77ccdeb4e84a6a9809dd1ffe5d07d2",
       "version_major": 2,
       "version_minor": 0
      },
      "text/plain": [
       "frame_number_map.npy:   0%|          | 0.00/83.6k [00:00<?, ?B/s]"
      ]
     },
     "metadata": {},
     "output_type": "display_data"
    },
    {
     "data": {
      "application/vnd.jupyter.widget-view+json": {
       "model_id": "1f26a710713f49a683332283a29fe7e0",
       "version_major": 2,
       "version_minor": 0
      },
      "text/plain": [
       "submission_videos_resized_224.zip:   0%|          | 0.00/3.50G [00:00<?, ?B/s]"
      ]
     },
     "metadata": {},
     "output_type": "display_data"
    },
    {
     "data": {
      "application/vnd.jupyter.widget-view+json": {
       "model_id": "98a8dab807e64fcd9a23ee8b763c0236",
       "version_major": 2,
       "version_minor": 0
      },
      "text/plain": [
       "userTrain_videos_resized_224.zip:   0%|          | 0.00/1.50G [00:00<?, ?B/s]"
      ]
     },
     "metadata": {},
     "output_type": "display_data"
    }
   ],
   "source": [
    "## The download might take a while, recommend to move to Google Drive if you want to run multiple times.\n",
    "%aicrowd ds dl -c {aicrowd_challenge_name} -o data *.npy* # Download all files\n",
    "# We'll download the 224x224 videos since they're fast on the dataloader, but you can use the full sized videos if you want\n",
    "%aicrowd ds dl -c {aicrowd_challenge_name} -o data *resized_224* # Download all file\n",
    "# %aicrowd ds dl -c {aicrowd_challenge_name} -o data *videos.zip* # Download the 512x512 videos"
   ]
  },
  {
   "cell_type": "code",
   "execution_count": null,
   "metadata": {},
   "outputs": [],
   "source": [
    "%aicrowd ds dl -c {aicrowd_challenge_name} -o data *resized_224* # Download all file"
   ]
  },
  {
   "cell_type": "code",
   "execution_count": null,
   "metadata": {
    "id": "iabZhE1KZiaT"
   },
   "outputs": [],
   "source": [
    "!unzip -q data/submission_videos_resized_224.zip  -d {video_folder}\n",
    "!unzip -q data/userTrain_videos_resized_224.zip -d {video_folder}\n",
    "\n",
    "## Careful when running the below commands - For copying to Google Drive\n",
    "# !rm data/submission_videos.zip data/userTrain_videos.zip \n",
    "# !cp -r data/ '/content/drive/MyDrive/mabe-2022-mouse-triplets-video/data/'"
   ]
  },
  {
   "cell_type": "markdown",
   "metadata": {
    "id": "2aibinwcwT1R"
   },
   "source": [
    "# Data Description 📚"
   ]
  },
  {
   "cell_type": "markdown",
   "metadata": {
    "id": "k3LrRJ5OwT1R"
   },
   "source": [
    "The following files are available in the `Resources` section on the Challenge Page. A \"sequence\" is a continuous recording of social interactions between animals: sequences are 60 seconds long (1800 frames at 30Hz) in the mouse video dataset. The `sequence_id` is a random hash to anonymize experiment details. nans indicate missing data. These occur because not all videos are labelled for all tasks. Data are padded with nans to be all the same size.  \n",
    "\n",
    "- `user_train.npy` - Set of videos where three public tasks are provided, for your local validation, which follows the following schema :\n",
    "\n",
    "```\n",
    "\n",
    "{\n",
    "    \"vocabulary\" : A list of public task names\n",
    "    \"sequences\" : {\n",
    "        \"<sequence_id> : {\n",
    "            \"annotations\" : a ndarray of shape (2, 1800) - Per frame labels for each of the public tasks\n",
    "            \"keypoints\" : a ndarray of shape (1800, 3, 12, 2) - Tracking keypoints on each of the mice\n",
    "        }\n",
    "    }\n",
    "}\n",
    "```\n",
    "\n",
    "- `submission_keypoints.npy` - Keypoints for the submission clips, which follows the following schema :\n",
    "\n",
    "```\n",
    "\n",
    "{  \n",
    "    \"sequences\" : {\n",
    "        \"<sequence_id> : {\n",
    "            \"keypoints\" : a ndarray of shape (1800, 3, 12, 2) - Single point tracking on each of the mice\n",
    "        }\n",
    "    }\n",
    "}\n",
    "```\n",
    "\n",
    "- `frame_number_map.npy` - A map of frame numbers for each clip to be used for the submission embeddings array\n",
    "\n",
    "- `sample_submission.npy` - Template for a sample submission for this task, follows the following schema :\n",
    "\n",
    "```\n",
    "{\n",
    "    \"frame_number_map\": \n",
    "        {\"<sequence_id-1>\": (start_frame_index, end_frame_index),\n",
    "        \"<sequence_id-1>\": (start_frame_index, end_frame_index),\n",
    "        ...\n",
    "        \"<sequence_id-n>\": (start_frame_index, end_frame_index),\n",
    "        }\n",
    "    \"<sequence_id-1>\" : [\n",
    "            [0.321, 0.234, 0.186, 0.857, 0.482, 0.185], .....]\n",
    "            [0.184, 0.583, 0.475, 0.485, 0.275, 0.958], .....]\n",
    "        ]\n",
    "}\n",
    "```\n",
    "- `userTrain_videos.zip` - Videos for the userTrain sequences, all 512x512 Grayscale 30 fps - 1800 frames each\n",
    "- `submission_videos.zip` -  Videos for the Submission sequences, all 512x512 Grayscale 30 fps - 1800 frames each\n",
    "\n",
    "In `sample_submission`, each key in the `frame_number_map` dictionary refers to the unique sequence id of a video in the test set. The item for each key is expected to be an the start and end index for slicing the `embeddings` numpy array to get the corresponding embeddings. The `embeddings` array is a 2D `ndarray` of floats of size `total_frames` by `X` , where `X` is the dimension of your learned embedding (6 in the above example; maximum permitted embedding dimension is **128**), representing the embedded value of each frame in the sequence. `total_frames` is the sum of all the frames of the sequences, the array should be concatenation of all the embeddings of all the clips."
   ]
  },
  {
   "cell_type": "code",
   "execution_count": null,
   "metadata": {
    "id": "fZy7BsWiwT1S"
   },
   "outputs": [],
   "source": [
    "# Load data\n",
    "userTrain_data = np.load(datafolder + 'user_train.npy', allow_pickle=True).item()\n",
    "submission_keypoints = np.load(datafolder + 'submission_keypoints.npy', allow_pickle=True).item()\n",
    "sample_submission = np.load(datafolder + 'sample_submission.npy')\n",
    "frame_number_map = np.load(datafolder + 'frame_number_map.npy', allow_pickle=True).item()"
   ]
  },
  {
   "cell_type": "code",
   "execution_count": null,
   "metadata": {
    "colab": {
     "base_uri": "https://localhost:8080/"
    },
    "executionInfo": {
     "elapsed": 17,
     "status": "ok",
     "timestamp": 1649162159139,
     "user": {
      "displayName": "Dipam Chakraborty",
      "userId": "04496869744334527762"
     },
     "user_tz": -330
    },
    "id": "Tl4hMFv4wT1S",
    "outputId": "f3c04479-0a50-482a-dcb2-4662470d4a54"
   },
   "outputs": [
    {
     "name": "stdout",
     "output_type": "stream",
     "text": [
      "UserTrain Vocabulary (Public Tasks) ['chases', 'lights']\n",
      "Number of UserTrain Sequences 784\n",
      "Number of Submission Sequences 1830\n"
     ]
    }
   ],
   "source": [
    "# Check some basic info\n",
    "print(\"UserTrain Vocabulary (Public Tasks)\", userTrain_data['vocabulary'])\n",
    "print(\"Number of UserTrain Sequences\", len(userTrain_data['sequences']))\n",
    "print(\"Number of Submission Sequences\", len(submission_keypoints['sequences']))"
   ]
  },
  {
   "cell_type": "code",
   "execution_count": null,
   "metadata": {
    "colab": {
     "base_uri": "https://localhost:8080/"
    },
    "executionInfo": {
     "elapsed": 10,
     "status": "ok",
     "timestamp": 1649162159139,
     "user": {
      "displayName": "Dipam Chakraborty",
      "userId": "04496869744334527762"
     },
     "user_tz": -330
    },
    "id": "qCrc72cRwT1S",
    "outputId": "048ce7de-1b02-4fb5-e7a5-7359d67571bf"
   },
   "outputs": [
    {
     "name": "stdout",
     "output_type": "stream",
     "text": [
      "Sequence name XP392Z0LAFVO4ED2TL9L  - Sequence keys dict_keys(['keypoints', 'annotations'])\n",
      "Annotations shape (2, 1800)\n",
      "Keypoints shape (1800, 3, 12, 2)\n"
     ]
    }
   ],
   "source": [
    "sk = list(userTrain_data['sequences'].keys())[0]\n",
    "single_sequence = userTrain_data['sequences'][sk]\n",
    "print(\"Sequence name\", sk, \" - Sequence keys\", single_sequence.keys())\n",
    "print(\"Annotations shape\", single_sequence['annotations'].shape)\n",
    "print(\"Keypoints shape\", single_sequence['keypoints'].shape)"
   ]
  },
  {
   "cell_type": "markdown",
   "metadata": {
    "id": "CBlV0mXRwT1S"
   },
   "source": [
    "# Visualize the sequences 🤓 "
   ]
  },
  {
   "cell_type": "code",
   "execution_count": null,
   "metadata": {
    "id": "AXEO-0DswT1T"
   },
   "outputs": [],
   "source": [
    "class_to_number = {s: i for i, s in enumerate(userTrain_data['vocabulary'])}\n",
    "number_to_class = {i: s for i, s in enumerate(userTrain_data['vocabulary'])}"
   ]
  },
  {
   "cell_type": "code",
   "execution_count": 17,
   "metadata": {
    "executionInfo": {
     "elapsed": 1274,
     "status": "ok",
     "timestamp": 1649162937036,
     "user": {
      "displayName": "Dipam Chakraborty",
      "userId": "04496869744334527762"
     },
     "user_tz": -330
    },
    "id": "vp6HeNFFwT1T"
   },
   "outputs": [],
   "source": [
    "rc('animation', html='jshtml')\n",
    " \n",
    "# Note: Image processing may be slow if too many frames are animated.                \n",
    " \n",
    "#Plotting constants\n",
    "FRAME_WIDTH_TOP = 224\n",
    "FRAME_HEIGHT_TOP = 224\n",
    " \n",
    "M1_COLOR = 'lawngreen'\n",
    "M2_COLOR = 'skyblue'\n",
    "M3_COLOR = 'tomato'\n",
    " \n",
    "PLOT_MOUSE_START_END = [(0, 1), (1, 3), (3, 2), (2, 0),        # head\n",
    "                        (3, 6), (6, 9),                        # midline\n",
    "                        (9, 10), (10, 11),                     # tail\n",
    "                        (4, 5), (5, 8), (8, 9), (9, 7), (7, 4) # legs\n",
    "                       ]\n",
    "\n",
    "def fill_holes(data):\n",
    "    clean_data = copy.deepcopy(data)\n",
    "    for m in range(3):\n",
    "        holes = np.where(clean_data[0,m,:,0]==0)\n",
    "        if not holes:\n",
    "            continue\n",
    "        for h in holes[0]:\n",
    "            sub = np.where(clean_data[:,m,h,0]!=0)\n",
    "            if(sub and sub[0].size > 0):\n",
    "                clean_data[0,m,h,:] = clean_data[sub[0][0],m,h,:]\n",
    "            else:\n",
    "                return np.empty((0))\n",
    "    \n",
    "    for fr in range(1,np.shape(clean_data)[0]):\n",
    "        for m in range(3):\n",
    "            holes = np.where(clean_data[fr,m,:,0]==0)\n",
    "            if not holes:\n",
    "                continue\n",
    "            for h in holes[0]:\n",
    "                clean_data[fr,m,h,:] = clean_data[fr-1,m,h,:]\n",
    "    return clean_data\n",
    " \n",
    "def set_figax():\n",
    "    fig = plt.figure(figsize=(8, 8))\n",
    " \n",
    "    img = np.zeros((FRAME_HEIGHT_TOP, FRAME_WIDTH_TOP, 3))\n",
    " \n",
    "    ax = fig.add_subplot(111)\n",
    "    imh = ax.imshow(img)\n",
    " \n",
    "    ax.get_xaxis().set_visible(False)\n",
    "    ax.get_yaxis().set_visible(False)\n",
    " \n",
    "    return fig, ax, imh\n",
    " \n",
    "def plot_mouse(ax, pose, color):\n",
    "    pose = np.int32(pose * 224 / 512)\n",
    "    # Draw each keypoint\n",
    "    for j in range(10):\n",
    "        ax.plot(pose[j, 1], pose[j, 0], 'o', color=color, markersize=3)\n",
    " \n",
    "    # Draw a line for each point pair to form the shape of the mouse\n",
    "    for pair in PLOT_MOUSE_START_END:\n",
    "        line_to_plot = pose[pair, :]\n",
    "        ax.plot(line_to_plot[:, 1], line_to_plot[:, 0], color=color, linewidth=1)\n",
    "\n",
    "def animate_pose_sequence(video_name, seq, start_frame = 0, stop_frame = 100, skip = 0, load_video = True, video_directory = []):\n",
    "    # Returns the animation of the keypoint sequence between start frame\n",
    "    # and stop frame.\n",
    " \n",
    "    image_list = []\n",
    "    cap = []\n",
    "    \n",
    "    if load_video:\n",
    "        curr_vid = os.path.join(video_directory, video_name + '.avi')\n",
    "        if not os.path.exists(curr_vid):\n",
    "            print('I couldn''t find a video for sequence ' + video_name + ' in ' + video_directory)\n",
    "        else:\n",
    "            cap = cv2.VideoCapture(curr_vid)\n",
    "            cap.set(cv2.CAP_PROP_POS_FRAMES, start_frame)\n",
    "            cap.open(curr_vid)\n",
    "    \n",
    "    counter = 0\n",
    "    if skip:\n",
    "        anim_range = range(start_frame, stop_frame, skip)\n",
    "    else:\n",
    "        anim_range = range(start_frame, stop_frame)\n",
    "    \n",
    "    for j in anim_range:\n",
    "        if counter%100 == 0:\n",
    "            print(\"Processing frame \", j)\n",
    "\n",
    "        fig, ax, imh = set_figax()\n",
    "        plot_mouse(ax, seq[j, 0, :, :], color=M1_COLOR)\n",
    "        plot_mouse(ax, seq[j, 1, :, :], color=M2_COLOR)\n",
    "        plot_mouse(ax, seq[j, 2, :, :], color=M3_COLOR)\n",
    "\n",
    "        if cap:\n",
    "            cap.set(cv2.CAP_PROP_POS_FRAMES, j)\n",
    "            ret,frame = cap.read()\n",
    "            imh.set_data(frame)\n",
    "\n",
    "        ax.set_title(\n",
    "            video_name + '\\n frame {:03d}.png'.format(j))\n",
    "\n",
    "        ax.axis('off')\n",
    "        fig.tight_layout(pad=0)\n",
    "        ax.margins(0)\n",
    "\n",
    "        fig.canvas.draw()\n",
    "        image_from_plot = np.frombuffer(fig.canvas.tostring_rgb(),\n",
    "                                        dtype=np.uint8)\n",
    "        image_from_plot = image_from_plot.reshape(\n",
    "            fig.canvas.get_width_height()[::-1] + (3,)) \n",
    "\n",
    "        image_list.append(image_from_plot)\n",
    "\n",
    "        plt.close()\n",
    "        counter = counter + 1\n",
    " \n",
    "    # Plot animation.\n",
    "    fig = plt.figure(figsize=(8,8))\n",
    "    plt.axis('off')\n",
    "    im = plt.imshow(image_list[0])\n",
    " \n",
    "    def animate(k):\n",
    "        im.set_array(image_list[k])\n",
    "        return im,\n",
    "    ani = animation.FuncAnimation(fig, animate, frames=len(image_list), blit=True)\n",
    "    return ani\n",
    " "
   ]
  },
  {
   "cell_type": "code",
   "execution_count": 18,
   "metadata": {
    "colab": {
     "base_uri": "https://localhost:8080/",
     "height": 1000,
     "output_embedded_package_id": "1peVbAglIr29s01dXk408hJWMyhwqPpBe"
    },
    "executionInfo": {
     "elapsed": 81401,
     "status": "ok",
     "timestamp": 1649163021200,
     "user": {
      "displayName": "Dipam Chakraborty",
      "userId": "04496869744334527762"
     },
     "user_tz": -330
    },
    "id": "AcVait4-wT1T",
    "outputId": "c6124228-6b38-4d47-d143-6ccf2bf81cab"
   },
   "outputs": [
    {
     "data": {
      "text/plain": [
       "Output hidden; open in https://colab.research.google.com to view."
      ]
     },
     "metadata": {},
     "output_type": "display_data"
    }
   ],
   "source": [
    "sequence_names = list(userTrain_data['sequences'].keys())\n",
    "sequence_key = sequence_names[-2]\n",
    "single_sequence = userTrain_data[\"sequences\"][sequence_key]\n",
    "\n",
    "\n",
    "keypoint_sequence = single_sequence['keypoints']\n",
    "\n",
    "\n",
    "masked_data = np.ma.masked_where(keypoint_sequence==0, keypoint_sequence)\n",
    "\n",
    "\n",
    "ani = animate_pose_sequence(sequence_key,\n",
    "                            keypoint_sequence,\n",
    "                            start_frame = 0,\n",
    "                            stop_frame = 100,\n",
    "                            skip = 0,\n",
    "                            load_video = True,\n",
    "                            video_directory = video_folder)\n",
    "\n",
    "# Display the animaion on colab\n",
    "ani"
   ]
  },
  {
   "cell_type": "markdown",
   "metadata": {
    "id": "sdKGAAL_wT1T"
   },
   "source": [
    "# EDA 🕵️"
   ]
  },
  {
   "cell_type": "code",
   "execution_count": 19,
   "metadata": {
    "colab": {
     "base_uri": "https://localhost:8080/"
    },
    "executionInfo": {
     "elapsed": 676,
     "status": "ok",
     "timestamp": 1649163066022,
     "user": {
      "displayName": "Dipam Chakraborty",
      "userId": "04496869744334527762"
     },
     "user_tz": -330
    },
    "id": "K9cmdFw8wT1T",
    "outputId": "8bf811fc-36d2-4703-a22e-f6823ed83a4c"
   },
   "outputs": [
    {
     "name": "stdout",
     "output_type": "stream",
     "text": [
      "Task chases - Percentage Frames Active 0.066\n",
      "Task lights - Percentage Frames Active 72.687\n"
     ]
    }
   ],
   "source": [
    "# Percentage of frames for each task\n",
    "for task_idx, task_name in enumerate(userTrain_data['vocabulary']):\n",
    "    l0, l1 = 0, 0 # We count both because NaNs can exist\n",
    "    for sk in userTrain_data['sequences'].keys():\n",
    "        l0 += np.sum(userTrain_data['sequences'][sk]['annotations'][task_idx] == 0)\n",
    "        l1 += np.sum(userTrain_data['sequences'][sk]['annotations'][task_idx] == 1)\n",
    "    print(f\"Task {task_name} - Percentage Frames Active {l1/l0*100:0.3f}\")"
   ]
  },
  {
   "cell_type": "code",
   "execution_count": 20,
   "metadata": {
    "colab": {
     "base_uri": "https://localhost:8080/"
    },
    "executionInfo": {
     "elapsed": 756,
     "status": "ok",
     "timestamp": 1649163125535,
     "user": {
      "displayName": "Dipam Chakraborty",
      "userId": "04496869744334527762"
     },
     "user_tz": -330
    },
    "id": "vD3NaOTUwT1T",
    "outputId": "5c4a38f1-7829-40b6-fa09-f9593e9e80c2"
   },
   "outputs": [
    {
     "name": "stdout",
     "output_type": "stream",
     "text": [
      "chases\n",
      "Number of bouts : 23\n",
      "Average length : 40.608695652173914\n",
      "Std lengths : 9.796801298892467\n",
      "\n",
      "lights\n",
      "Number of bouts : 330\n",
      "Average length : 1800.0\n",
      "Std lengths : 0.0\n",
      "\n"
     ]
    }
   ],
   "source": [
    "# Check the number of bouts of each task occuring\n",
    "def check_bouts(anno):\n",
    "    anno_padded = np.pad(anno.copy(), 1)\n",
    "    anno_padded[np.isnan(anno_padded)] = 0\n",
    "    if np.sum(anno_padded) == 0:\n",
    "        return None\n",
    "    locs = np.where(np.diff(anno_padded))\n",
    "    return locs[0].reshape(-1,2)\n",
    "\n",
    "def get_bout_infos(dataset):\n",
    "    num_tasks = len(userTrain_data['vocabulary'])\n",
    "    bout_infos = [np.empty((0,2)) for _ in range(num_tasks)]\n",
    "    for sk in dataset['sequences']:    \n",
    "        anno = dataset['sequences'][sk]['annotations']\n",
    "        for idx in range(num_tasks):\n",
    "            bout_limits = check_bouts(anno[idx])\n",
    "            if bout_limits is not None:\n",
    "                bout_infos[idx] = np.concatenate([bout_infos[idx], bout_limits], axis=0)\n",
    "    return bout_infos\n",
    "\n",
    "bout_infos = get_bout_infos(userTrain_data)\n",
    "for task_idx, task_name in enumerate(userTrain_data['vocabulary']):\n",
    "    b_info = bout_infos[task_idx]\n",
    "\n",
    "    blens = b_info[:, 1] - b_info[:, 0]\n",
    "\n",
    "    print(task_name)\n",
    "    print(f\"Number of bouts : {len(b_info)}\")\n",
    "    print(f\"Average length : {np.mean(blens)}\")\n",
    "    print(f\"Std lengths : {np.std(blens)}\")\n",
    "    print()"
   ]
  },
  {
   "cell_type": "markdown",
   "metadata": {
    "id": "Buk50aaiwT1U"
   },
   "source": [
    "# Generate an embedding ✨\n",
    "We'll generate a basic embedding using a pre-trained vision model."
   ]
  },
  {
   "cell_type": "code",
   "execution_count": 26,
   "metadata": {
    "executionInfo": {
     "elapsed": 1,
     "status": "ok",
     "timestamp": 1649165432432,
     "user": {
      "displayName": "Dipam Chakraborty",
      "userId": "04496869744334527762"
     },
     "user_tz": -330
    },
    "id": "ejT18R5CwT1U"
   },
   "outputs": [],
   "source": [
    "num_frames_per_clip = 1800\n",
    "image_size = (224, 224)\n",
    "batch_size = 4 # Reduce this if encountering OOM errors\n",
    "frame_skip = 8  # For every 1 frame, skip 8 frames after that\n",
    "# NOTE - We skip frames because the output generation on all frames takes a lot of time, \n",
    "# primarily because reading videos is slow. Resizing frames also takes lot of time.\n",
    "\n",
    "class MabeVideoDataset(torch.utils.data.Dataset):\n",
    "    \"\"\"\n",
    "    Reads all frames from video files with frame skip\n",
    "    \"\"\"\n",
    "    def __init__(self, \n",
    "                 videofolder, \n",
    "                 frame_number_map,\n",
    "                 frame_skip):\n",
    "        \"\"\"\n",
    "        Initializing the dataset with images and labels\n",
    "        \"\"\"\n",
    "        self.videofolder = videofolder\n",
    "        self.frame_number_map = frame_number_map\n",
    "        self.video_keys = list(frame_number_map.keys())\n",
    "        self.frame_skip = frame_skip # For every frame read, skip <frame_skip> frames after that\n",
    "        \n",
    "        assert num_frames_per_clip % (frame_skip + 1) == 0, \"frame_skip+1 should exactly divide frame number map\"\n",
    "        self.num_frames = num_frames_per_clip // (self.frame_skip + 1)\n",
    "        \n",
    "        self.transform = T.Compose([\n",
    "            T.ToTensor(),\n",
    "            # T.Resize(image_size), # Add this if using full sized videos\n",
    "            T.Normalize(mean=[0.485, 0.456, 0.406], std=[0.229, 0.224, 0.225])\n",
    "        ])\n",
    "\n",
    "    def __len__(self):\n",
    "        return len(self.frame_number_map)\n",
    "    \n",
    "    def __getitem__(self, idx):\n",
    "        video_name = self.video_keys[idx]\n",
    "\n",
    "        video_path = os.path.join(self.videofolder, video_name + '.avi')\n",
    "        if not os.path.exists(video_path):\n",
    "            # raise FileNotFoundError(video_path)\n",
    "            print(\"File not found\", video_path)\n",
    "            return torch.zeros((self.num_frames, 3, *image_size), dtype=torch.float32)\n",
    "        \n",
    "        cap = cv2.VideoCapture(video_path)\n",
    "        frame_array = torch.zeros((self.num_frames, 3, *image_size), dtype=torch.float32)\n",
    "\n",
    "        for array_idx, frame_idx in enumerate(range(0, num_frames_per_clip, self.frame_skip+1)):\n",
    "            cap.set(cv2.CAP_PROP_POS_FRAMES, frame_idx)\n",
    "            success, frame = cap.read()\n",
    "            if success:\n",
    "                frame_tensor = self.transform(frame)\n",
    "                frame_array[array_idx] = frame_tensor\n",
    "        \n",
    "        return frame_array"
   ]
  },
  {
   "cell_type": "code",
   "execution_count": 27,
   "metadata": {
    "executionInfo": {
     "elapsed": 4,
     "status": "ok",
     "timestamp": 1649165432921,
     "user": {
      "displayName": "Dipam Chakraborty",
      "userId": "04496869744334527762"
     },
     "user_tz": -330
    },
    "id": "b7hWDZaPwT1U"
   },
   "outputs": [],
   "source": [
    "dataset = MabeVideoDataset(videofolder=video_folder,\n",
    "                           frame_number_map=frame_number_map,\n",
    "                           frame_skip=frame_skip)\n",
    "\n",
    "dataloader = torch.utils.data.DataLoader(\n",
    "    dataset,\n",
    "    batch_size=batch_size,\n",
    "    shuffle=False,\n",
    "    drop_last=False,\n",
    "    pin_memory=True,\n",
    "    num_workers=1,\n",
    ")\n"
   ]
  },
  {
   "cell_type": "code",
   "execution_count": 23,
   "metadata": {
    "executionInfo": {
     "elapsed": 10207,
     "status": "ok",
     "timestamp": 1649163146766,
     "user": {
      "displayName": "Dipam Chakraborty",
      "userId": "04496869744334527762"
     },
     "user_tz": -330
    },
    "id": "DgzXcrbHwT1U"
   },
   "outputs": [],
   "source": [
    "device = 'cuda' if torch.cuda.is_available() else 'cpu'\n",
    "def get_model():\n",
    "    resnet_encoder = torchvision.models.resnet18(pretrained=False)\n",
    "    model = torch.nn.Sequential(*list(resnet_encoder.children())[:-1])\n",
    "    model.to(device);\n",
    "    model.eval()\n",
    "    return model\n",
    "\n",
    "model = get_model()"
   ]
  },
  {
   "cell_type": "code",
   "execution_count": null,
   "metadata": {
    "colab": {
     "base_uri": "https://localhost:8080/",
     "height": 66,
     "referenced_widgets": [
      "d299b86f10104795aa8c9dbf73e8aea6",
      "155b6de822ee49ac9ea08bb9864ee015",
      "5a9152ae7e57488386d7d86519aca371",
      "709415a687344783839b97337bb09b28",
      "c00e6bdced624448b49f723682a4bba5",
      "4182fdac853c408f93d3eac19390c7a3",
      "8618d9e16f604d588607f729835d262f",
      "b6ab3b5ecc534be9981c4f0776f3038a",
      "2a18f3844b8843a3a24c8c86ae199ce7",
      "08058c9acc634e419d7a182a3531591e",
      "ef934520e0f94dfcaeed4f28a9fe5c31"
     ]
    },
    "id": "B3VQPM3zwT1U",
    "outputId": "727becf5-94dd-4159-aaf2-ae482fda8fdb"
   },
   "outputs": [
    {
     "data": {
      "application/vnd.jupyter.widget-view+json": {
       "model_id": "d299b86f10104795aa8c9dbf73e8aea6",
       "version_major": 2,
       "version_minor": 0
      },
      "text/plain": [
       "  0%|          | 0/458 [00:00<?, ?it/s]"
      ]
     },
     "metadata": {},
     "output_type": "display_data"
    },
    {
     "name": "stdout",
     "output_type": "stream",
     "text": [
      "File not found data/video_clips/R6R4SNHGFM0ZOOH9A1TN.avi\n"
     ]
    }
   ],
   "source": [
    "embedding_size = 128 # We'll clip the top embeddings from the output of the CNN\n",
    "submission = np.empty((sample_submission.shape[0], embedding_size), dtype=np.float32)\n",
    "idx = 0\n",
    "for data in tqdm(dataloader, total=len(dataloader)):\n",
    "    with torch.no_grad():\n",
    "        dshape = data.shape\n",
    "        images = data.reshape((-1, *dshape[2:])).to(device) # Squeeze first 2 dimensions to make 4D\n",
    "        output = model(images)\n",
    "        output = output[:, :embedding_size, 0, 0]\n",
    "        output = output.reshape((dshape[0], dshape[1], -1)) # Return the outputs to 2D for multiple clips\n",
    "        output = output.cpu().numpy()\n",
    "        output = np.repeat(output, frame_skip+1, axis=1) # Repeat the output for next skipped frames\n",
    "        # At this point the output should be the embeddings for batch_size number of clips\n",
    "        # Shape of output - (batch_size, num_frames_per_clip, embedding_size)\n",
    "        output = np.reshape(output, (-1, embedding_size))\n",
    "        submission[idx:idx+output.shape[0]] = output\n",
    "        idx += output.shape[0]"
   ]
  },
  {
   "cell_type": "markdown",
   "metadata": {
    "id": "E-Valfm_wT1U"
   },
   "source": [
    "# Submission 🚀\n",
    "\n",
    "Validate and submit to AIcrowd"
   ]
  },
  {
   "cell_type": "code",
   "execution_count": null,
   "metadata": {
    "id": "64i14xRUwT1U"
   },
   "outputs": [],
   "source": [
    "print(\"Embedding shape:\", submission.shape)"
   ]
  },
  {
   "cell_type": "markdown",
   "metadata": {
    "id": "g2nJHexswT1V"
   },
   "source": [
    "## Validate the submission ✅\n",
    "The submssion should follow these constraints:\n",
    "\n",
    "- It should be a numpy array\n",
    "- Embeddings is an 2D numpy array of dtype float32\n",
    "- The embedding size should't exceed 128\n",
    "- The frame number map matches the clip lengths\n",
    "- You can use the helper function below to check these"
   ]
  },
  {
   "cell_type": "code",
   "execution_count": null,
   "metadata": {
    "id": "4orL-csEwT1V"
   },
   "outputs": [],
   "source": [
    "def validate_submission(submission, frame_number_map):\n",
    "    if not isinstance(submission, np.ndarray):\n",
    "        print(\"Embeddings should be a numpy array\")\n",
    "        return False\n",
    "    elif not len(submission.shape) == 2:\n",
    "        print(\"Embeddings should be 2D array\")\n",
    "        return False\n",
    "    elif not submission.shape[1] <= 128:\n",
    "        print(\"Embeddings too large, max allowed is 128\")\n",
    "        return False\n",
    "    elif not isinstance(submission[0, 0], np.float32):\n",
    "        print(f\"Embeddings are not float32\")\n",
    "        return False\n",
    "\n",
    "    \n",
    "    total_clip_length = frame_number_map[list(frame_number_map.keys())[-1]][1]\n",
    "            \n",
    "    if not len(submission) == total_clip_length:\n",
    "        print(f\"Emebddings length doesn't match submission clips total length\")\n",
    "        return False\n",
    "\n",
    "    if not np.isfinite(submission).all():\n",
    "        print(f\"Emebddings contains NaN or infinity\")\n",
    "        return False\n",
    "\n",
    "    print(\"All checks passed\")\n",
    "    return True"
   ]
  },
  {
   "cell_type": "code",
   "execution_count": null,
   "metadata": {
    "id": "licVWBRNwT1V"
   },
   "outputs": [],
   "source": [
    "validate_submission(submission, frame_number_map)"
   ]
  },
  {
   "cell_type": "code",
   "execution_count": null,
   "metadata": {
    "id": "yzuxM989wT1V"
   },
   "outputs": [],
   "source": [
    "np.save('submission.npy', submission)"
   ]
  },
  {
   "cell_type": "code",
   "execution_count": null,
   "metadata": {
    "id": "Z8M93dzIwT1V"
   },
   "outputs": [],
   "source": [
    "%aicrowd submission create --description \"Mouse-Video-Getting-Started\" -c {aicrowd_challenge_name} -f submission.npy"
   ]
  }
 ],
 "metadata": {
  "accelerator": "GPU",
  "colab": {
   "collapsed_sections": [],
   "name": "MABe_2022_Mouse_Video_Getting_Started.ipynb",
   "provenance": []
  },
  "kernelspec": {
   "display_name": "Python 3 (ipykernel)",
   "language": "python",
   "name": "python3"
  },
  "language_info": {
   "codemirror_mode": {
    "name": "ipython",
    "version": 3
   },
   "file_extension": ".py",
   "mimetype": "text/x-python",
   "name": "python",
   "nbconvert_exporter": "python",
   "pygments_lexer": "ipython3",
   "version": "3.7.11"
  },
  "widgets": {
   "application/vnd.jupyter.widget-state+json": {
    "00e1d7ad21284b50abf13678d2bccbda": {
     "model_module": "@jupyter-widgets/controls",
     "model_module_version": "1.5.0",
     "model_name": "DescriptionStyleModel",
     "state": {
      "_model_module": "@jupyter-widgets/controls",
      "_model_module_version": "1.5.0",
      "_model_name": "DescriptionStyleModel",
      "_view_count": null,
      "_view_module": "@jupyter-widgets/base",
      "_view_module_version": "1.2.0",
      "_view_name": "StyleView",
      "description_width": ""
     }
    },
    "04f381e4378d4a62b7ff5f78c2ddcd69": {
     "model_module": "@jupyter-widgets/controls",
     "model_module_version": "1.5.0",
     "model_name": "DescriptionStyleModel",
     "state": {
      "_model_module": "@jupyter-widgets/controls",
      "_model_module_version": "1.5.0",
      "_model_name": "DescriptionStyleModel",
      "_view_count": null,
      "_view_module": "@jupyter-widgets/base",
      "_view_module_version": "1.2.0",
      "_view_name": "StyleView",
      "description_width": ""
     }
    },
    "0676bd7d543d43e482d1403b8c3637d2": {
     "model_module": "@jupyter-widgets/controls",
     "model_module_version": "1.5.0",
     "model_name": "HTMLModel",
     "state": {
      "_dom_classes": [],
      "_model_module": "@jupyter-widgets/controls",
      "_model_module_version": "1.5.0",
      "_model_name": "HTMLModel",
      "_view_count": null,
      "_view_module": "@jupyter-widgets/controls",
      "_view_module_version": "1.5.0",
      "_view_name": "HTMLView",
      "description": "",
      "description_tooltip": null,
      "layout": "IPY_MODEL_1060ee6f024b4d9da7128da9ee38d53f",
      "placeholder": "​",
      "style": "IPY_MODEL_04f381e4378d4a62b7ff5f78c2ddcd69",
      "value": "submission_keypoints.npy: 100%"
     }
    },
    "08058c9acc634e419d7a182a3531591e": {
     "model_module": "@jupyter-widgets/base",
     "model_module_version": "1.2.0",
     "model_name": "LayoutModel",
     "state": {
      "_model_module": "@jupyter-widgets/base",
      "_model_module_version": "1.2.0",
      "_model_name": "LayoutModel",
      "_view_count": null,
      "_view_module": "@jupyter-widgets/base",
      "_view_module_version": "1.2.0",
      "_view_name": "LayoutView",
      "align_content": null,
      "align_items": null,
      "align_self": null,
      "border": null,
      "bottom": null,
      "display": null,
      "flex": null,
      "flex_flow": null,
      "grid_area": null,
      "grid_auto_columns": null,
      "grid_auto_flow": null,
      "grid_auto_rows": null,
      "grid_column": null,
      "grid_gap": null,
      "grid_row": null,
      "grid_template_areas": null,
      "grid_template_columns": null,
      "grid_template_rows": null,
      "height": null,
      "justify_content": null,
      "justify_items": null,
      "left": null,
      "margin": null,
      "max_height": null,
      "max_width": null,
      "min_height": null,
      "min_width": null,
      "object_fit": null,
      "object_position": null,
      "order": null,
      "overflow": null,
      "overflow_x": null,
      "overflow_y": null,
      "padding": null,
      "right": null,
      "top": null,
      "visibility": null,
      "width": null
     }
    },
    "09d0e176fad746929a0ea5f4ed7332c1": {
     "model_module": "@jupyter-widgets/base",
     "model_module_version": "1.2.0",
     "model_name": "LayoutModel",
     "state": {
      "_model_module": "@jupyter-widgets/base",
      "_model_module_version": "1.2.0",
      "_model_name": "LayoutModel",
      "_view_count": null,
      "_view_module": "@jupyter-widgets/base",
      "_view_module_version": "1.2.0",
      "_view_name": "LayoutView",
      "align_content": null,
      "align_items": null,
      "align_self": null,
      "border": null,
      "bottom": null,
      "display": null,
      "flex": null,
      "flex_flow": null,
      "grid_area": null,
      "grid_auto_columns": null,
      "grid_auto_flow": null,
      "grid_auto_rows": null,
      "grid_column": null,
      "grid_gap": null,
      "grid_row": null,
      "grid_template_areas": null,
      "grid_template_columns": null,
      "grid_template_rows": null,
      "height": null,
      "justify_content": null,
      "justify_items": null,
      "left": null,
      "margin": null,
      "max_height": null,
      "max_width": null,
      "min_height": null,
      "min_width": null,
      "object_fit": null,
      "object_position": null,
      "order": null,
      "overflow": null,
      "overflow_x": null,
      "overflow_y": null,
      "padding": null,
      "right": null,
      "top": null,
      "visibility": null,
      "width": null
     }
    },
    "0b3cb796c0614728b9d7b34bd3eb502e": {
     "model_module": "@jupyter-widgets/controls",
     "model_module_version": "1.5.0",
     "model_name": "FloatProgressModel",
     "state": {
      "_dom_classes": [],
      "_model_module": "@jupyter-widgets/controls",
      "_model_module_version": "1.5.0",
      "_model_name": "FloatProgressModel",
      "_view_count": null,
      "_view_module": "@jupyter-widgets/controls",
      "_view_module_version": "1.5.0",
      "_view_name": "ProgressView",
      "bar_style": "success",
      "description": "",
      "description_tooltip": null,
      "layout": "IPY_MODEL_ba39418835c04371b42806cbf9f5c71b",
      "max": 417845925,
      "min": 0,
      "orientation": "horizontal",
      "style": "IPY_MODEL_8752dae11d7d40c88346781864b3d92c",
      "value": 417845925
     }
    },
    "1060ee6f024b4d9da7128da9ee38d53f": {
     "model_module": "@jupyter-widgets/base",
     "model_module_version": "1.2.0",
     "model_name": "LayoutModel",
     "state": {
      "_model_module": "@jupyter-widgets/base",
      "_model_module_version": "1.2.0",
      "_model_name": "LayoutModel",
      "_view_count": null,
      "_view_module": "@jupyter-widgets/base",
      "_view_module_version": "1.2.0",
      "_view_name": "LayoutView",
      "align_content": null,
      "align_items": null,
      "align_self": null,
      "border": null,
      "bottom": null,
      "display": null,
      "flex": null,
      "flex_flow": null,
      "grid_area": null,
      "grid_auto_columns": null,
      "grid_auto_flow": null,
      "grid_auto_rows": null,
      "grid_column": null,
      "grid_gap": null,
      "grid_row": null,
      "grid_template_areas": null,
      "grid_template_columns": null,
      "grid_template_rows": null,
      "height": null,
      "justify_content": null,
      "justify_items": null,
      "left": null,
      "margin": null,
      "max_height": null,
      "max_width": null,
      "min_height": null,
      "min_width": null,
      "object_fit": null,
      "object_position": null,
      "order": null,
      "overflow": null,
      "overflow_x": null,
      "overflow_y": null,
      "padding": null,
      "right": null,
      "top": null,
      "visibility": null,
      "width": null
     }
    },
    "12476da3c003403fa939543c692b87ac": {
     "model_module": "@jupyter-widgets/base",
     "model_module_version": "1.2.0",
     "model_name": "LayoutModel",
     "state": {
      "_model_module": "@jupyter-widgets/base",
      "_model_module_version": "1.2.0",
      "_model_name": "LayoutModel",
      "_view_count": null,
      "_view_module": "@jupyter-widgets/base",
      "_view_module_version": "1.2.0",
      "_view_name": "LayoutView",
      "align_content": null,
      "align_items": null,
      "align_self": null,
      "border": null,
      "bottom": null,
      "display": null,
      "flex": null,
      "flex_flow": null,
      "grid_area": null,
      "grid_auto_columns": null,
      "grid_auto_flow": null,
      "grid_auto_rows": null,
      "grid_column": null,
      "grid_gap": null,
      "grid_row": null,
      "grid_template_areas": null,
      "grid_template_columns": null,
      "grid_template_rows": null,
      "height": null,
      "justify_content": null,
      "justify_items": null,
      "left": null,
      "margin": null,
      "max_height": null,
      "max_width": null,
      "min_height": null,
      "min_width": null,
      "object_fit": null,
      "object_position": null,
      "order": null,
      "overflow": null,
      "overflow_x": null,
      "overflow_y": null,
      "padding": null,
      "right": null,
      "top": null,
      "visibility": null,
      "width": null
     }
    },
    "141482124f064d52b3a4daad9c4333fb": {
     "model_module": "@jupyter-widgets/base",
     "model_module_version": "1.2.0",
     "model_name": "LayoutModel",
     "state": {
      "_model_module": "@jupyter-widgets/base",
      "_model_module_version": "1.2.0",
      "_model_name": "LayoutModel",
      "_view_count": null,
      "_view_module": "@jupyter-widgets/base",
      "_view_module_version": "1.2.0",
      "_view_name": "LayoutView",
      "align_content": null,
      "align_items": null,
      "align_self": null,
      "border": null,
      "bottom": null,
      "display": null,
      "flex": null,
      "flex_flow": null,
      "grid_area": null,
      "grid_auto_columns": null,
      "grid_auto_flow": null,
      "grid_auto_rows": null,
      "grid_column": null,
      "grid_gap": null,
      "grid_row": null,
      "grid_template_areas": null,
      "grid_template_columns": null,
      "grid_template_rows": null,
      "height": null,
      "justify_content": null,
      "justify_items": null,
      "left": null,
      "margin": null,
      "max_height": null,
      "max_width": null,
      "min_height": null,
      "min_width": null,
      "object_fit": null,
      "object_position": null,
      "order": null,
      "overflow": null,
      "overflow_x": null,
      "overflow_y": null,
      "padding": null,
      "right": null,
      "top": null,
      "visibility": null,
      "width": null
     }
    },
    "155b6de822ee49ac9ea08bb9864ee015": {
     "model_module": "@jupyter-widgets/controls",
     "model_module_version": "1.5.0",
     "model_name": "HTMLModel",
     "state": {
      "_dom_classes": [],
      "_model_module": "@jupyter-widgets/controls",
      "_model_module_version": "1.5.0",
      "_model_name": "HTMLModel",
      "_view_count": null,
      "_view_module": "@jupyter-widgets/controls",
      "_view_module_version": "1.5.0",
      "_view_name": "HTMLView",
      "description": "",
      "description_tooltip": null,
      "layout": "IPY_MODEL_4182fdac853c408f93d3eac19390c7a3",
      "placeholder": "​",
      "style": "IPY_MODEL_8618d9e16f604d588607f729835d262f",
      "value": " 22%"
     }
    },
    "2116de1d1cc54b518988dc66d731dd11": {
     "model_module": "@jupyter-widgets/controls",
     "model_module_version": "1.5.0",
     "model_name": "HBoxModel",
     "state": {
      "_dom_classes": [],
      "_model_module": "@jupyter-widgets/controls",
      "_model_module_version": "1.5.0",
      "_model_name": "HBoxModel",
      "_view_count": null,
      "_view_module": "@jupyter-widgets/controls",
      "_view_module_version": "1.5.0",
      "_view_name": "HBoxView",
      "box_style": "",
      "children": [
       "IPY_MODEL_4c44691d03094c1eb231bdd1c6ea9cf3",
       "IPY_MODEL_534cbe02f3d74b0d869357d12ad12da5",
       "IPY_MODEL_d12548fc28534ceda6ad1ad362127df1"
      ],
      "layout": "IPY_MODEL_582c34e608784379b205a42e2ca3bf00"
     }
    },
    "24199abc3cf84607b29f31d89f72416d": {
     "model_module": "@jupyter-widgets/controls",
     "model_module_version": "1.5.0",
     "model_name": "HBoxModel",
     "state": {
      "_dom_classes": [],
      "_model_module": "@jupyter-widgets/controls",
      "_model_module_version": "1.5.0",
      "_model_name": "HBoxModel",
      "_view_count": null,
      "_view_module": "@jupyter-widgets/controls",
      "_view_module_version": "1.5.0",
      "_view_name": "HBoxView",
      "box_style": "",
      "children": [
       "IPY_MODEL_9df611dc3ffa4d35aa39b3d7dbed0bb1",
       "IPY_MODEL_a4a6473691ba479fb9951638048e8dd5",
       "IPY_MODEL_b447b6ca3dd74502ba734c1939f5dcda"
      ],
      "layout": "IPY_MODEL_4270379184b24173ab496b59babb7cd3"
     }
    },
    "2a18f3844b8843a3a24c8c86ae199ce7": {
     "model_module": "@jupyter-widgets/controls",
     "model_module_version": "1.5.0",
     "model_name": "ProgressStyleModel",
     "state": {
      "_model_module": "@jupyter-widgets/controls",
      "_model_module_version": "1.5.0",
      "_model_name": "ProgressStyleModel",
      "_view_count": null,
      "_view_module": "@jupyter-widgets/base",
      "_view_module_version": "1.2.0",
      "_view_name": "StyleView",
      "bar_color": null,
      "description_width": ""
     }
    },
    "3a7c2189c3fd43cb85bed6e858898b4b": {
     "model_module": "@jupyter-widgets/controls",
     "model_module_version": "1.5.0",
     "model_name": "DescriptionStyleModel",
     "state": {
      "_model_module": "@jupyter-widgets/controls",
      "_model_module_version": "1.5.0",
      "_model_name": "DescriptionStyleModel",
      "_view_count": null,
      "_view_module": "@jupyter-widgets/base",
      "_view_module_version": "1.2.0",
      "_view_name": "StyleView",
      "description_width": ""
     }
    },
    "4182fdac853c408f93d3eac19390c7a3": {
     "model_module": "@jupyter-widgets/base",
     "model_module_version": "1.2.0",
     "model_name": "LayoutModel",
     "state": {
      "_model_module": "@jupyter-widgets/base",
      "_model_module_version": "1.2.0",
      "_model_name": "LayoutModel",
      "_view_count": null,
      "_view_module": "@jupyter-widgets/base",
      "_view_module_version": "1.2.0",
      "_view_name": "LayoutView",
      "align_content": null,
      "align_items": null,
      "align_self": null,
      "border": null,
      "bottom": null,
      "display": null,
      "flex": null,
      "flex_flow": null,
      "grid_area": null,
      "grid_auto_columns": null,
      "grid_auto_flow": null,
      "grid_auto_rows": null,
      "grid_column": null,
      "grid_gap": null,
      "grid_row": null,
      "grid_template_areas": null,
      "grid_template_columns": null,
      "grid_template_rows": null,
      "height": null,
      "justify_content": null,
      "justify_items": null,
      "left": null,
      "margin": null,
      "max_height": null,
      "max_width": null,
      "min_height": null,
      "min_width": null,
      "object_fit": null,
      "object_position": null,
      "order": null,
      "overflow": null,
      "overflow_x": null,
      "overflow_y": null,
      "padding": null,
      "right": null,
      "top": null,
      "visibility": null,
      "width": null
     }
    },
    "4270379184b24173ab496b59babb7cd3": {
     "model_module": "@jupyter-widgets/base",
     "model_module_version": "1.2.0",
     "model_name": "LayoutModel",
     "state": {
      "_model_module": "@jupyter-widgets/base",
      "_model_module_version": "1.2.0",
      "_model_name": "LayoutModel",
      "_view_count": null,
      "_view_module": "@jupyter-widgets/base",
      "_view_module_version": "1.2.0",
      "_view_name": "LayoutView",
      "align_content": null,
      "align_items": null,
      "align_self": null,
      "border": null,
      "bottom": null,
      "display": null,
      "flex": null,
      "flex_flow": null,
      "grid_area": null,
      "grid_auto_columns": null,
      "grid_auto_flow": null,
      "grid_auto_rows": null,
      "grid_column": null,
      "grid_gap": null,
      "grid_row": null,
      "grid_template_areas": null,
      "grid_template_columns": null,
      "grid_template_rows": null,
      "height": null,
      "justify_content": null,
      "justify_items": null,
      "left": null,
      "margin": null,
      "max_height": null,
      "max_width": null,
      "min_height": null,
      "min_width": null,
      "object_fit": null,
      "object_position": null,
      "order": null,
      "overflow": null,
      "overflow_x": null,
      "overflow_y": null,
      "padding": null,
      "right": null,
      "top": null,
      "visibility": null,
      "width": null
     }
    },
    "42c1aadca08842a6a7e71d886a562d1d": {
     "model_module": "@jupyter-widgets/controls",
     "model_module_version": "1.5.0",
     "model_name": "HTMLModel",
     "state": {
      "_dom_classes": [],
      "_model_module": "@jupyter-widgets/controls",
      "_model_module_version": "1.5.0",
      "_model_name": "HTMLModel",
      "_view_count": null,
      "_view_module": "@jupyter-widgets/controls",
      "_view_module_version": "1.5.0",
      "_view_name": "HTMLView",
      "description": "",
      "description_tooltip": null,
      "layout": "IPY_MODEL_5b768597dc1a476ea42d4e41816abf94",
      "placeholder": "​",
      "style": "IPY_MODEL_486c0029ffaf4ef9ba59e28a0ec20c67",
      "value": "frame_number_map.npy: 100%"
     }
    },
    "438d3003ddfb4cd8aa15f16b10d5fc9c": {
     "model_module": "@jupyter-widgets/controls",
     "model_module_version": "1.5.0",
     "model_name": "ProgressStyleModel",
     "state": {
      "_model_module": "@jupyter-widgets/controls",
      "_model_module_version": "1.5.0",
      "_model_name": "ProgressStyleModel",
      "_view_count": null,
      "_view_module": "@jupyter-widgets/base",
      "_view_module_version": "1.2.0",
      "_view_name": "StyleView",
      "bar_color": null,
      "description_width": ""
     }
    },
    "449f9ea3d5024a15a916c8ade8f66ddd": {
     "model_module": "@jupyter-widgets/controls",
     "model_module_version": "1.5.0",
     "model_name": "DescriptionStyleModel",
     "state": {
      "_model_module": "@jupyter-widgets/controls",
      "_model_module_version": "1.5.0",
      "_model_name": "DescriptionStyleModel",
      "_view_count": null,
      "_view_module": "@jupyter-widgets/base",
      "_view_module_version": "1.2.0",
      "_view_name": "StyleView",
      "description_width": ""
     }
    },
    "45a37c0b19624ce3a9741e65a031cbf2": {
     "model_module": "@jupyter-widgets/controls",
     "model_module_version": "1.5.0",
     "model_name": "FloatProgressModel",
     "state": {
      "_dom_classes": [],
      "_model_module": "@jupyter-widgets/controls",
      "_model_module_version": "1.5.0",
      "_model_name": "FloatProgressModel",
      "_view_count": null,
      "_view_module": "@jupyter-widgets/controls",
      "_view_module_version": "1.5.0",
      "_view_name": "ProgressView",
      "bar_style": "success",
      "description": "",
      "description_tooltip": null,
      "layout": "IPY_MODEL_55fa89a7cb3741c99540b15f119a225c",
      "max": 948861986,
      "min": 0,
      "orientation": "horizontal",
      "style": "IPY_MODEL_438d3003ddfb4cd8aa15f16b10d5fc9c",
      "value": 948861986
     }
    },
    "486c0029ffaf4ef9ba59e28a0ec20c67": {
     "model_module": "@jupyter-widgets/controls",
     "model_module_version": "1.5.0",
     "model_name": "DescriptionStyleModel",
     "state": {
      "_model_module": "@jupyter-widgets/controls",
      "_model_module_version": "1.5.0",
      "_model_name": "DescriptionStyleModel",
      "_view_count": null,
      "_view_module": "@jupyter-widgets/base",
      "_view_module_version": "1.2.0",
      "_view_name": "StyleView",
      "description_width": ""
     }
    },
    "48b6d04dff34491f86b713019890003d": {
     "model_module": "@jupyter-widgets/base",
     "model_module_version": "1.2.0",
     "model_name": "LayoutModel",
     "state": {
      "_model_module": "@jupyter-widgets/base",
      "_model_module_version": "1.2.0",
      "_model_name": "LayoutModel",
      "_view_count": null,
      "_view_module": "@jupyter-widgets/base",
      "_view_module_version": "1.2.0",
      "_view_name": "LayoutView",
      "align_content": null,
      "align_items": null,
      "align_self": null,
      "border": null,
      "bottom": null,
      "display": null,
      "flex": null,
      "flex_flow": null,
      "grid_area": null,
      "grid_auto_columns": null,
      "grid_auto_flow": null,
      "grid_auto_rows": null,
      "grid_column": null,
      "grid_gap": null,
      "grid_row": null,
      "grid_template_areas": null,
      "grid_template_columns": null,
      "grid_template_rows": null,
      "height": null,
      "justify_content": null,
      "justify_items": null,
      "left": null,
      "margin": null,
      "max_height": null,
      "max_width": null,
      "min_height": null,
      "min_width": null,
      "object_fit": null,
      "object_position": null,
      "order": null,
      "overflow": null,
      "overflow_x": null,
      "overflow_y": null,
      "padding": null,
      "right": null,
      "top": null,
      "visibility": null,
      "width": null
     }
    },
    "48b9317d67144379aaab14d81b49343d": {
     "model_module": "@jupyter-widgets/controls",
     "model_module_version": "1.5.0",
     "model_name": "ProgressStyleModel",
     "state": {
      "_model_module": "@jupyter-widgets/controls",
      "_model_module_version": "1.5.0",
      "_model_name": "ProgressStyleModel",
      "_view_count": null,
      "_view_module": "@jupyter-widgets/base",
      "_view_module_version": "1.2.0",
      "_view_name": "StyleView",
      "bar_color": null,
      "description_width": ""
     }
    },
    "49989b716e2d4cba92cd5d4a6d815691": {
     "model_module": "@jupyter-widgets/controls",
     "model_module_version": "1.5.0",
     "model_name": "HTMLModel",
     "state": {
      "_dom_classes": [],
      "_model_module": "@jupyter-widgets/controls",
      "_model_module_version": "1.5.0",
      "_model_name": "HTMLModel",
      "_view_count": null,
      "_view_module": "@jupyter-widgets/controls",
      "_view_module_version": "1.5.0",
      "_view_name": "HTMLView",
      "description": "",
      "description_tooltip": null,
      "layout": "IPY_MODEL_bd59b04353164204b26e4905fcfd16aa",
      "placeholder": "​",
      "style": "IPY_MODEL_a77e784f126a4edf81ec1e2fd1edeba9",
      "value": " 418M/418M [01:13&lt;00:00, 6.86MB/s]"
     }
    },
    "4b618b9fcea34f5f9013da86747eb857": {
     "model_module": "@jupyter-widgets/controls",
     "model_module_version": "1.5.0",
     "model_name": "HTMLModel",
     "state": {
      "_dom_classes": [],
      "_model_module": "@jupyter-widgets/controls",
      "_model_module_version": "1.5.0",
      "_model_name": "HTMLModel",
      "_view_count": null,
      "_view_module": "@jupyter-widgets/controls",
      "_view_module_version": "1.5.0",
      "_view_name": "HTMLView",
      "description": "",
      "description_tooltip": null,
      "layout": "IPY_MODEL_a8f7b027ac1140cfa1218889b0dc08b4",
      "placeholder": "​",
      "style": "IPY_MODEL_7a6e76302f484b8584bba7eeb74871d6",
      "value": " 949M/949M [01:46&lt;00:00, 9.71MB/s]"
     }
    },
    "4c44691d03094c1eb231bdd1c6ea9cf3": {
     "model_module": "@jupyter-widgets/controls",
     "model_module_version": "1.5.0",
     "model_name": "HTMLModel",
     "state": {
      "_dom_classes": [],
      "_model_module": "@jupyter-widgets/controls",
      "_model_module_version": "1.5.0",
      "_model_name": "HTMLModel",
      "_view_count": null,
      "_view_module": "@jupyter-widgets/controls",
      "_view_module_version": "1.5.0",
      "_view_name": "HTMLView",
      "description": "",
      "description_tooltip": null,
      "layout": "IPY_MODEL_141482124f064d52b3a4daad9c4333fb",
      "placeholder": "​",
      "style": "IPY_MODEL_00e1d7ad21284b50abf13678d2bccbda",
      "value": "submission_videos_resized_224.zip: 100%"
     }
    },
    "4d00b214c0724c198bea094acaf67fca": {
     "model_module": "@jupyter-widgets/base",
     "model_module_version": "1.2.0",
     "model_name": "LayoutModel",
     "state": {
      "_model_module": "@jupyter-widgets/base",
      "_model_module_version": "1.2.0",
      "_model_name": "LayoutModel",
      "_view_count": null,
      "_view_module": "@jupyter-widgets/base",
      "_view_module_version": "1.2.0",
      "_view_name": "LayoutView",
      "align_content": null,
      "align_items": null,
      "align_self": null,
      "border": null,
      "bottom": null,
      "display": null,
      "flex": null,
      "flex_flow": null,
      "grid_area": null,
      "grid_auto_columns": null,
      "grid_auto_flow": null,
      "grid_auto_rows": null,
      "grid_column": null,
      "grid_gap": null,
      "grid_row": null,
      "grid_template_areas": null,
      "grid_template_columns": null,
      "grid_template_rows": null,
      "height": null,
      "justify_content": null,
      "justify_items": null,
      "left": null,
      "margin": null,
      "max_height": null,
      "max_width": null,
      "min_height": null,
      "min_width": null,
      "object_fit": null,
      "object_position": null,
      "order": null,
      "overflow": null,
      "overflow_x": null,
      "overflow_y": null,
      "padding": null,
      "right": null,
      "top": null,
      "visibility": null,
      "width": null
     }
    },
    "4d49f6ae133e4880a8a0e9ba816b4230": {
     "model_module": "@jupyter-widgets/base",
     "model_module_version": "1.2.0",
     "model_name": "LayoutModel",
     "state": {
      "_model_module": "@jupyter-widgets/base",
      "_model_module_version": "1.2.0",
      "_model_name": "LayoutModel",
      "_view_count": null,
      "_view_module": "@jupyter-widgets/base",
      "_view_module_version": "1.2.0",
      "_view_name": "LayoutView",
      "align_content": null,
      "align_items": null,
      "align_self": null,
      "border": null,
      "bottom": null,
      "display": null,
      "flex": null,
      "flex_flow": null,
      "grid_area": null,
      "grid_auto_columns": null,
      "grid_auto_flow": null,
      "grid_auto_rows": null,
      "grid_column": null,
      "grid_gap": null,
      "grid_row": null,
      "grid_template_areas": null,
      "grid_template_columns": null,
      "grid_template_rows": null,
      "height": null,
      "justify_content": null,
      "justify_items": null,
      "left": null,
      "margin": null,
      "max_height": null,
      "max_width": null,
      "min_height": null,
      "min_width": null,
      "object_fit": null,
      "object_position": null,
      "order": null,
      "overflow": null,
      "overflow_x": null,
      "overflow_y": null,
      "padding": null,
      "right": null,
      "top": null,
      "visibility": null,
      "width": null
     }
    },
    "4db5081cc8e145f3886902007f9109fc": {
     "model_module": "@jupyter-widgets/controls",
     "model_module_version": "1.5.0",
     "model_name": "ProgressStyleModel",
     "state": {
      "_model_module": "@jupyter-widgets/controls",
      "_model_module_version": "1.5.0",
      "_model_name": "ProgressStyleModel",
      "_view_count": null,
      "_view_module": "@jupyter-widgets/base",
      "_view_module_version": "1.2.0",
      "_view_name": "StyleView",
      "bar_color": null,
      "description_width": ""
     }
    },
    "534cbe02f3d74b0d869357d12ad12da5": {
     "model_module": "@jupyter-widgets/controls",
     "model_module_version": "1.5.0",
     "model_name": "FloatProgressModel",
     "state": {
      "_dom_classes": [],
      "_model_module": "@jupyter-widgets/controls",
      "_model_module_version": "1.5.0",
      "_model_name": "FloatProgressModel",
      "_view_count": null,
      "_view_module": "@jupyter-widgets/controls",
      "_view_module_version": "1.5.0",
      "_view_name": "ProgressView",
      "bar_style": "success",
      "description": "",
      "description_tooltip": null,
      "layout": "IPY_MODEL_64b7a80abbae43aca46a3af6bfac2d51",
      "max": 3500254022,
      "min": 0,
      "orientation": "horizontal",
      "style": "IPY_MODEL_a7ea6a76c7da43f8bc5cd6cec8810096",
      "value": 3500254022
     }
    },
    "55fa89a7cb3741c99540b15f119a225c": {
     "model_module": "@jupyter-widgets/base",
     "model_module_version": "1.2.0",
     "model_name": "LayoutModel",
     "state": {
      "_model_module": "@jupyter-widgets/base",
      "_model_module_version": "1.2.0",
      "_model_name": "LayoutModel",
      "_view_count": null,
      "_view_module": "@jupyter-widgets/base",
      "_view_module_version": "1.2.0",
      "_view_name": "LayoutView",
      "align_content": null,
      "align_items": null,
      "align_self": null,
      "border": null,
      "bottom": null,
      "display": null,
      "flex": null,
      "flex_flow": null,
      "grid_area": null,
      "grid_auto_columns": null,
      "grid_auto_flow": null,
      "grid_auto_rows": null,
      "grid_column": null,
      "grid_gap": null,
      "grid_row": null,
      "grid_template_areas": null,
      "grid_template_columns": null,
      "grid_template_rows": null,
      "height": null,
      "justify_content": null,
      "justify_items": null,
      "left": null,
      "margin": null,
      "max_height": null,
      "max_width": null,
      "min_height": null,
      "min_width": null,
      "object_fit": null,
      "object_position": null,
      "order": null,
      "overflow": null,
      "overflow_x": null,
      "overflow_y": null,
      "padding": null,
      "right": null,
      "top": null,
      "visibility": null,
      "width": null
     }
    },
    "582c34e608784379b205a42e2ca3bf00": {
     "model_module": "@jupyter-widgets/base",
     "model_module_version": "1.2.0",
     "model_name": "LayoutModel",
     "state": {
      "_model_module": "@jupyter-widgets/base",
      "_model_module_version": "1.2.0",
      "_model_name": "LayoutModel",
      "_view_count": null,
      "_view_module": "@jupyter-widgets/base",
      "_view_module_version": "1.2.0",
      "_view_name": "LayoutView",
      "align_content": null,
      "align_items": null,
      "align_self": null,
      "border": null,
      "bottom": null,
      "display": null,
      "flex": null,
      "flex_flow": null,
      "grid_area": null,
      "grid_auto_columns": null,
      "grid_auto_flow": null,
      "grid_auto_rows": null,
      "grid_column": null,
      "grid_gap": null,
      "grid_row": null,
      "grid_template_areas": null,
      "grid_template_columns": null,
      "grid_template_rows": null,
      "height": null,
      "justify_content": null,
      "justify_items": null,
      "left": null,
      "margin": null,
      "max_height": null,
      "max_width": null,
      "min_height": null,
      "min_width": null,
      "object_fit": null,
      "object_position": null,
      "order": null,
      "overflow": null,
      "overflow_x": null,
      "overflow_y": null,
      "padding": null,
      "right": null,
      "top": null,
      "visibility": null,
      "width": null
     }
    },
    "5a9152ae7e57488386d7d86519aca371": {
     "model_module": "@jupyter-widgets/controls",
     "model_module_version": "1.5.0",
     "model_name": "FloatProgressModel",
     "state": {
      "_dom_classes": [],
      "_model_module": "@jupyter-widgets/controls",
      "_model_module_version": "1.5.0",
      "_model_name": "FloatProgressModel",
      "_view_count": null,
      "_view_module": "@jupyter-widgets/controls",
      "_view_module_version": "1.5.0",
      "_view_name": "ProgressView",
      "bar_style": "",
      "description": "",
      "description_tooltip": null,
      "layout": "IPY_MODEL_b6ab3b5ecc534be9981c4f0776f3038a",
      "max": 458,
      "min": 0,
      "orientation": "horizontal",
      "style": "IPY_MODEL_2a18f3844b8843a3a24c8c86ae199ce7",
      "value": 104
     }
    },
    "5b768597dc1a476ea42d4e41816abf94": {
     "model_module": "@jupyter-widgets/base",
     "model_module_version": "1.2.0",
     "model_name": "LayoutModel",
     "state": {
      "_model_module": "@jupyter-widgets/base",
      "_model_module_version": "1.2.0",
      "_model_name": "LayoutModel",
      "_view_count": null,
      "_view_module": "@jupyter-widgets/base",
      "_view_module_version": "1.2.0",
      "_view_name": "LayoutView",
      "align_content": null,
      "align_items": null,
      "align_self": null,
      "border": null,
      "bottom": null,
      "display": null,
      "flex": null,
      "flex_flow": null,
      "grid_area": null,
      "grid_auto_columns": null,
      "grid_auto_flow": null,
      "grid_auto_rows": null,
      "grid_column": null,
      "grid_gap": null,
      "grid_row": null,
      "grid_template_areas": null,
      "grid_template_columns": null,
      "grid_template_rows": null,
      "height": null,
      "justify_content": null,
      "justify_items": null,
      "left": null,
      "margin": null,
      "max_height": null,
      "max_width": null,
      "min_height": null,
      "min_width": null,
      "object_fit": null,
      "object_position": null,
      "order": null,
      "overflow": null,
      "overflow_x": null,
      "overflow_y": null,
      "padding": null,
      "right": null,
      "top": null,
      "visibility": null,
      "width": null
     }
    },
    "64b7a80abbae43aca46a3af6bfac2d51": {
     "model_module": "@jupyter-widgets/base",
     "model_module_version": "1.2.0",
     "model_name": "LayoutModel",
     "state": {
      "_model_module": "@jupyter-widgets/base",
      "_model_module_version": "1.2.0",
      "_model_name": "LayoutModel",
      "_view_count": null,
      "_view_module": "@jupyter-widgets/base",
      "_view_module_version": "1.2.0",
      "_view_name": "LayoutView",
      "align_content": null,
      "align_items": null,
      "align_self": null,
      "border": null,
      "bottom": null,
      "display": null,
      "flex": null,
      "flex_flow": null,
      "grid_area": null,
      "grid_auto_columns": null,
      "grid_auto_flow": null,
      "grid_auto_rows": null,
      "grid_column": null,
      "grid_gap": null,
      "grid_row": null,
      "grid_template_areas": null,
      "grid_template_columns": null,
      "grid_template_rows": null,
      "height": null,
      "justify_content": null,
      "justify_items": null,
      "left": null,
      "margin": null,
      "max_height": null,
      "max_width": null,
      "min_height": null,
      "min_width": null,
      "object_fit": null,
      "object_position": null,
      "order": null,
      "overflow": null,
      "overflow_x": null,
      "overflow_y": null,
      "padding": null,
      "right": null,
      "top": null,
      "visibility": null,
      "width": null
     }
    },
    "66a05802b74245c5a9264db950100254": {
     "model_module": "@jupyter-widgets/base",
     "model_module_version": "1.2.0",
     "model_name": "LayoutModel",
     "state": {
      "_model_module": "@jupyter-widgets/base",
      "_model_module_version": "1.2.0",
      "_model_name": "LayoutModel",
      "_view_count": null,
      "_view_module": "@jupyter-widgets/base",
      "_view_module_version": "1.2.0",
      "_view_name": "LayoutView",
      "align_content": null,
      "align_items": null,
      "align_self": null,
      "border": null,
      "bottom": null,
      "display": null,
      "flex": null,
      "flex_flow": null,
      "grid_area": null,
      "grid_auto_columns": null,
      "grid_auto_flow": null,
      "grid_auto_rows": null,
      "grid_column": null,
      "grid_gap": null,
      "grid_row": null,
      "grid_template_areas": null,
      "grid_template_columns": null,
      "grid_template_rows": null,
      "height": null,
      "justify_content": null,
      "justify_items": null,
      "left": null,
      "margin": null,
      "max_height": null,
      "max_width": null,
      "min_height": null,
      "min_width": null,
      "object_fit": null,
      "object_position": null,
      "order": null,
      "overflow": null,
      "overflow_x": null,
      "overflow_y": null,
      "padding": null,
      "right": null,
      "top": null,
      "visibility": null,
      "width": null
     }
    },
    "6a89705d8880413d9f844d7c149ea017": {
     "model_module": "@jupyter-widgets/controls",
     "model_module_version": "1.5.0",
     "model_name": "DescriptionStyleModel",
     "state": {
      "_model_module": "@jupyter-widgets/controls",
      "_model_module_version": "1.5.0",
      "_model_name": "DescriptionStyleModel",
      "_view_count": null,
      "_view_module": "@jupyter-widgets/base",
      "_view_module_version": "1.2.0",
      "_view_name": "StyleView",
      "description_width": ""
     }
    },
    "709415a687344783839b97337bb09b28": {
     "model_module": "@jupyter-widgets/controls",
     "model_module_version": "1.5.0",
     "model_name": "HTMLModel",
     "state": {
      "_dom_classes": [],
      "_model_module": "@jupyter-widgets/controls",
      "_model_module_version": "1.5.0",
      "_model_name": "HTMLModel",
      "_view_count": null,
      "_view_module": "@jupyter-widgets/controls",
      "_view_module_version": "1.5.0",
      "_view_name": "HTMLView",
      "description": "",
      "description_tooltip": null,
      "layout": "IPY_MODEL_08058c9acc634e419d7a182a3531591e",
      "placeholder": "​",
      "style": "IPY_MODEL_ef934520e0f94dfcaeed4f28a9fe5c31",
      "value": " 103/458 [05:33&lt;18:53,  3.19s/it]"
     }
    },
    "7a6e76302f484b8584bba7eeb74871d6": {
     "model_module": "@jupyter-widgets/controls",
     "model_module_version": "1.5.0",
     "model_name": "DescriptionStyleModel",
     "state": {
      "_model_module": "@jupyter-widgets/controls",
      "_model_module_version": "1.5.0",
      "_model_name": "DescriptionStyleModel",
      "_view_count": null,
      "_view_module": "@jupyter-widgets/base",
      "_view_module_version": "1.2.0",
      "_view_name": "StyleView",
      "description_width": ""
     }
    },
    "7c2353ec9ae64601ba22dd0651b1167b": {
     "model_module": "@jupyter-widgets/controls",
     "model_module_version": "1.5.0",
     "model_name": "DescriptionStyleModel",
     "state": {
      "_model_module": "@jupyter-widgets/controls",
      "_model_module_version": "1.5.0",
      "_model_name": "DescriptionStyleModel",
      "_view_count": null,
      "_view_module": "@jupyter-widgets/base",
      "_view_module_version": "1.2.0",
      "_view_name": "StyleView",
      "description_width": ""
     }
    },
    "7d22c936f6c7442fa708e53f9e217f1b": {
     "model_module": "@jupyter-widgets/base",
     "model_module_version": "1.2.0",
     "model_name": "LayoutModel",
     "state": {
      "_model_module": "@jupyter-widgets/base",
      "_model_module_version": "1.2.0",
      "_model_name": "LayoutModel",
      "_view_count": null,
      "_view_module": "@jupyter-widgets/base",
      "_view_module_version": "1.2.0",
      "_view_name": "LayoutView",
      "align_content": null,
      "align_items": null,
      "align_self": null,
      "border": null,
      "bottom": null,
      "display": null,
      "flex": null,
      "flex_flow": null,
      "grid_area": null,
      "grid_auto_columns": null,
      "grid_auto_flow": null,
      "grid_auto_rows": null,
      "grid_column": null,
      "grid_gap": null,
      "grid_row": null,
      "grid_template_areas": null,
      "grid_template_columns": null,
      "grid_template_rows": null,
      "height": null,
      "justify_content": null,
      "justify_items": null,
      "left": null,
      "margin": null,
      "max_height": null,
      "max_width": null,
      "min_height": null,
      "min_width": null,
      "object_fit": null,
      "object_position": null,
      "order": null,
      "overflow": null,
      "overflow_x": null,
      "overflow_y": null,
      "padding": null,
      "right": null,
      "top": null,
      "visibility": null,
      "width": null
     }
    },
    "8618d9e16f604d588607f729835d262f": {
     "model_module": "@jupyter-widgets/controls",
     "model_module_version": "1.5.0",
     "model_name": "DescriptionStyleModel",
     "state": {
      "_model_module": "@jupyter-widgets/controls",
      "_model_module_version": "1.5.0",
      "_model_name": "DescriptionStyleModel",
      "_view_count": null,
      "_view_module": "@jupyter-widgets/base",
      "_view_module_version": "1.2.0",
      "_view_name": "StyleView",
      "description_width": ""
     }
    },
    "8752dae11d7d40c88346781864b3d92c": {
     "model_module": "@jupyter-widgets/controls",
     "model_module_version": "1.5.0",
     "model_name": "ProgressStyleModel",
     "state": {
      "_model_module": "@jupyter-widgets/controls",
      "_model_module_version": "1.5.0",
      "_model_name": "ProgressStyleModel",
      "_view_count": null,
      "_view_module": "@jupyter-widgets/base",
      "_view_module_version": "1.2.0",
      "_view_name": "StyleView",
      "bar_color": null,
      "description_width": ""
     }
    },
    "904a6efc737e4b42ae9f8b1ff6933e85": {
     "model_module": "@jupyter-widgets/base",
     "model_module_version": "1.2.0",
     "model_name": "LayoutModel",
     "state": {
      "_model_module": "@jupyter-widgets/base",
      "_model_module_version": "1.2.0",
      "_model_name": "LayoutModel",
      "_view_count": null,
      "_view_module": "@jupyter-widgets/base",
      "_view_module_version": "1.2.0",
      "_view_name": "LayoutView",
      "align_content": null,
      "align_items": null,
      "align_self": null,
      "border": null,
      "bottom": null,
      "display": null,
      "flex": null,
      "flex_flow": null,
      "grid_area": null,
      "grid_auto_columns": null,
      "grid_auto_flow": null,
      "grid_auto_rows": null,
      "grid_column": null,
      "grid_gap": null,
      "grid_row": null,
      "grid_template_areas": null,
      "grid_template_columns": null,
      "grid_template_rows": null,
      "height": null,
      "justify_content": null,
      "justify_items": null,
      "left": null,
      "margin": null,
      "max_height": null,
      "max_width": null,
      "min_height": null,
      "min_width": null,
      "object_fit": null,
      "object_position": null,
      "order": null,
      "overflow": null,
      "overflow_x": null,
      "overflow_y": null,
      "padding": null,
      "right": null,
      "top": null,
      "visibility": null,
      "width": null
     }
    },
    "97fca5b8bf6f424bbe9c8cbe4eb1d814": {
     "model_module": "@jupyter-widgets/controls",
     "model_module_version": "1.5.0",
     "model_name": "HBoxModel",
     "state": {
      "_dom_classes": [],
      "_model_module": "@jupyter-widgets/controls",
      "_model_module_version": "1.5.0",
      "_model_name": "HBoxModel",
      "_view_count": null,
      "_view_module": "@jupyter-widgets/controls",
      "_view_module_version": "1.5.0",
      "_view_name": "HBoxView",
      "box_style": "",
      "children": [
       "IPY_MODEL_d812727782824881b3a1b61396cff947",
       "IPY_MODEL_0b3cb796c0614728b9d7b34bd3eb502e",
       "IPY_MODEL_49989b716e2d4cba92cd5d4a6d815691"
      ],
      "layout": "IPY_MODEL_09d0e176fad746929a0ea5f4ed7332c1"
     }
    },
    "9a9815aec50a479d8ff731f2ab81ef0f": {
     "model_module": "@jupyter-widgets/base",
     "model_module_version": "1.2.0",
     "model_name": "LayoutModel",
     "state": {
      "_model_module": "@jupyter-widgets/base",
      "_model_module_version": "1.2.0",
      "_model_name": "LayoutModel",
      "_view_count": null,
      "_view_module": "@jupyter-widgets/base",
      "_view_module_version": "1.2.0",
      "_view_name": "LayoutView",
      "align_content": null,
      "align_items": null,
      "align_self": null,
      "border": null,
      "bottom": null,
      "display": null,
      "flex": null,
      "flex_flow": null,
      "grid_area": null,
      "grid_auto_columns": null,
      "grid_auto_flow": null,
      "grid_auto_rows": null,
      "grid_column": null,
      "grid_gap": null,
      "grid_row": null,
      "grid_template_areas": null,
      "grid_template_columns": null,
      "grid_template_rows": null,
      "height": null,
      "justify_content": null,
      "justify_items": null,
      "left": null,
      "margin": null,
      "max_height": null,
      "max_width": null,
      "min_height": null,
      "min_width": null,
      "object_fit": null,
      "object_position": null,
      "order": null,
      "overflow": null,
      "overflow_x": null,
      "overflow_y": null,
      "padding": null,
      "right": null,
      "top": null,
      "visibility": null,
      "width": null
     }
    },
    "9c0243b2c86b4039a93c4ae0ab536f30": {
     "model_module": "@jupyter-widgets/controls",
     "model_module_version": "1.5.0",
     "model_name": "HTMLModel",
     "state": {
      "_dom_classes": [],
      "_model_module": "@jupyter-widgets/controls",
      "_model_module_version": "1.5.0",
      "_model_name": "HTMLModel",
      "_view_count": null,
      "_view_module": "@jupyter-widgets/controls",
      "_view_module_version": "1.5.0",
      "_view_name": "HTMLView",
      "description": "",
      "description_tooltip": null,
      "layout": "IPY_MODEL_4d00b214c0724c198bea094acaf67fca",
      "placeholder": "​",
      "style": "IPY_MODEL_3a7c2189c3fd43cb85bed6e858898b4b",
      "value": " 1.50G/1.50G [03:16&lt;00:00, 7.87MB/s]"
     }
    },
    "9df611dc3ffa4d35aa39b3d7dbed0bb1": {
     "model_module": "@jupyter-widgets/controls",
     "model_module_version": "1.5.0",
     "model_name": "HTMLModel",
     "state": {
      "_dom_classes": [],
      "_model_module": "@jupyter-widgets/controls",
      "_model_module_version": "1.5.0",
      "_model_name": "HTMLModel",
      "_view_count": null,
      "_view_module": "@jupyter-widgets/controls",
      "_view_module_version": "1.5.0",
      "_view_name": "HTMLView",
      "description": "",
      "description_tooltip": null,
      "layout": "IPY_MODEL_9a9815aec50a479d8ff731f2ab81ef0f",
      "placeholder": "​",
      "style": "IPY_MODEL_d649896642354c479370eb07296bd0d9",
      "value": "sample_submission.npy: 100%"
     }
    },
    "9fbf98379b564b88802b8b600e3d3864": {
     "model_module": "@jupyter-widgets/controls",
     "model_module_version": "1.5.0",
     "model_name": "DescriptionStyleModel",
     "state": {
      "_model_module": "@jupyter-widgets/controls",
      "_model_module_version": "1.5.0",
      "_model_name": "DescriptionStyleModel",
      "_view_count": null,
      "_view_module": "@jupyter-widgets/base",
      "_view_module_version": "1.2.0",
      "_view_name": "StyleView",
      "description_width": ""
     }
    },
    "a4a6473691ba479fb9951638048e8dd5": {
     "model_module": "@jupyter-widgets/controls",
     "model_module_version": "1.5.0",
     "model_name": "FloatProgressModel",
     "state": {
      "_dom_classes": [],
      "_model_module": "@jupyter-widgets/controls",
      "_model_module_version": "1.5.0",
      "_model_name": "FloatProgressModel",
      "_view_count": null,
      "_view_module": "@jupyter-widgets/controls",
      "_view_module_version": "1.5.0",
      "_view_name": "ProgressView",
      "bar_style": "success",
      "description": "",
      "description_tooltip": null,
      "layout": "IPY_MODEL_66a05802b74245c5a9264db950100254",
      "max": 65880128,
      "min": 0,
      "orientation": "horizontal",
      "style": "IPY_MODEL_48b9317d67144379aaab14d81b49343d",
      "value": 65880128
     }
    },
    "a5ff7c6da4e745629625f12e885e5450": {
     "model_module": "@jupyter-widgets/base",
     "model_module_version": "1.2.0",
     "model_name": "LayoutModel",
     "state": {
      "_model_module": "@jupyter-widgets/base",
      "_model_module_version": "1.2.0",
      "_model_name": "LayoutModel",
      "_view_count": null,
      "_view_module": "@jupyter-widgets/base",
      "_view_module_version": "1.2.0",
      "_view_name": "LayoutView",
      "align_content": null,
      "align_items": null,
      "align_self": null,
      "border": null,
      "bottom": null,
      "display": null,
      "flex": null,
      "flex_flow": null,
      "grid_area": null,
      "grid_auto_columns": null,
      "grid_auto_flow": null,
      "grid_auto_rows": null,
      "grid_column": null,
      "grid_gap": null,
      "grid_row": null,
      "grid_template_areas": null,
      "grid_template_columns": null,
      "grid_template_rows": null,
      "height": null,
      "justify_content": null,
      "justify_items": null,
      "left": null,
      "margin": null,
      "max_height": null,
      "max_width": null,
      "min_height": null,
      "min_width": null,
      "object_fit": null,
      "object_position": null,
      "order": null,
      "overflow": null,
      "overflow_x": null,
      "overflow_y": null,
      "padding": null,
      "right": null,
      "top": null,
      "visibility": null,
      "width": null
     }
    },
    "a77e784f126a4edf81ec1e2fd1edeba9": {
     "model_module": "@jupyter-widgets/controls",
     "model_module_version": "1.5.0",
     "model_name": "DescriptionStyleModel",
     "state": {
      "_model_module": "@jupyter-widgets/controls",
      "_model_module_version": "1.5.0",
      "_model_name": "DescriptionStyleModel",
      "_view_count": null,
      "_view_module": "@jupyter-widgets/base",
      "_view_module_version": "1.2.0",
      "_view_name": "StyleView",
      "description_width": ""
     }
    },
    "a7ea6a76c7da43f8bc5cd6cec8810096": {
     "model_module": "@jupyter-widgets/controls",
     "model_module_version": "1.5.0",
     "model_name": "ProgressStyleModel",
     "state": {
      "_model_module": "@jupyter-widgets/controls",
      "_model_module_version": "1.5.0",
      "_model_name": "ProgressStyleModel",
      "_view_count": null,
      "_view_module": "@jupyter-widgets/base",
      "_view_module_version": "1.2.0",
      "_view_name": "StyleView",
      "bar_color": null,
      "description_width": ""
     }
    },
    "a8f7b027ac1140cfa1218889b0dc08b4": {
     "model_module": "@jupyter-widgets/base",
     "model_module_version": "1.2.0",
     "model_name": "LayoutModel",
     "state": {
      "_model_module": "@jupyter-widgets/base",
      "_model_module_version": "1.2.0",
      "_model_name": "LayoutModel",
      "_view_count": null,
      "_view_module": "@jupyter-widgets/base",
      "_view_module_version": "1.2.0",
      "_view_name": "LayoutView",
      "align_content": null,
      "align_items": null,
      "align_self": null,
      "border": null,
      "bottom": null,
      "display": null,
      "flex": null,
      "flex_flow": null,
      "grid_area": null,
      "grid_auto_columns": null,
      "grid_auto_flow": null,
      "grid_auto_rows": null,
      "grid_column": null,
      "grid_gap": null,
      "grid_row": null,
      "grid_template_areas": null,
      "grid_template_columns": null,
      "grid_template_rows": null,
      "height": null,
      "justify_content": null,
      "justify_items": null,
      "left": null,
      "margin": null,
      "max_height": null,
      "max_width": null,
      "min_height": null,
      "min_width": null,
      "object_fit": null,
      "object_position": null,
      "order": null,
      "overflow": null,
      "overflow_x": null,
      "overflow_y": null,
      "padding": null,
      "right": null,
      "top": null,
      "visibility": null,
      "width": null
     }
    },
    "b01b303d85cc48daa5c0e15348567468": {
     "model_module": "@jupyter-widgets/controls",
     "model_module_version": "1.5.0",
     "model_name": "ProgressStyleModel",
     "state": {
      "_model_module": "@jupyter-widgets/controls",
      "_model_module_version": "1.5.0",
      "_model_name": "ProgressStyleModel",
      "_view_count": null,
      "_view_module": "@jupyter-widgets/base",
      "_view_module_version": "1.2.0",
      "_view_name": "StyleView",
      "bar_color": null,
      "description_width": ""
     }
    },
    "b0e8b7cdfc1b4442b98a96c24301199f": {
     "model_module": "@jupyter-widgets/controls",
     "model_module_version": "1.5.0",
     "model_name": "DescriptionStyleModel",
     "state": {
      "_model_module": "@jupyter-widgets/controls",
      "_model_module_version": "1.5.0",
      "_model_name": "DescriptionStyleModel",
      "_view_count": null,
      "_view_module": "@jupyter-widgets/base",
      "_view_module_version": "1.2.0",
      "_view_name": "StyleView",
      "description_width": ""
     }
    },
    "b2bc15d6c82a468eb9c8c42a318340ea": {
     "model_module": "@jupyter-widgets/controls",
     "model_module_version": "1.5.0",
     "model_name": "HBoxModel",
     "state": {
      "_dom_classes": [],
      "_model_module": "@jupyter-widgets/controls",
      "_model_module_version": "1.5.0",
      "_model_name": "HBoxModel",
      "_view_count": null,
      "_view_module": "@jupyter-widgets/controls",
      "_view_module_version": "1.5.0",
      "_view_name": "HBoxView",
      "box_style": "",
      "children": [
       "IPY_MODEL_0676bd7d543d43e482d1403b8c3637d2",
       "IPY_MODEL_45a37c0b19624ce3a9741e65a031cbf2",
       "IPY_MODEL_4b618b9fcea34f5f9013da86747eb857"
      ],
      "layout": "IPY_MODEL_48b6d04dff34491f86b713019890003d"
     }
    },
    "b447b6ca3dd74502ba734c1939f5dcda": {
     "model_module": "@jupyter-widgets/controls",
     "model_module_version": "1.5.0",
     "model_name": "HTMLModel",
     "state": {
      "_dom_classes": [],
      "_model_module": "@jupyter-widgets/controls",
      "_model_module_version": "1.5.0",
      "_model_name": "HTMLModel",
      "_view_count": null,
      "_view_module": "@jupyter-widgets/controls",
      "_view_module_version": "1.5.0",
      "_view_name": "HTMLView",
      "description": "",
      "description_tooltip": null,
      "layout": "IPY_MODEL_fcd4c42e0eeb4bb7be6f1eb80eda5581",
      "placeholder": "​",
      "style": "IPY_MODEL_9fbf98379b564b88802b8b600e3d3864",
      "value": " 65.9M/65.9M [00:09&lt;00:00, 7.47MB/s]"
     }
    },
    "b6ab3b5ecc534be9981c4f0776f3038a": {
     "model_module": "@jupyter-widgets/base",
     "model_module_version": "1.2.0",
     "model_name": "LayoutModel",
     "state": {
      "_model_module": "@jupyter-widgets/base",
      "_model_module_version": "1.2.0",
      "_model_name": "LayoutModel",
      "_view_count": null,
      "_view_module": "@jupyter-widgets/base",
      "_view_module_version": "1.2.0",
      "_view_name": "LayoutView",
      "align_content": null,
      "align_items": null,
      "align_self": null,
      "border": null,
      "bottom": null,
      "display": null,
      "flex": null,
      "flex_flow": null,
      "grid_area": null,
      "grid_auto_columns": null,
      "grid_auto_flow": null,
      "grid_auto_rows": null,
      "grid_column": null,
      "grid_gap": null,
      "grid_row": null,
      "grid_template_areas": null,
      "grid_template_columns": null,
      "grid_template_rows": null,
      "height": null,
      "justify_content": null,
      "justify_items": null,
      "left": null,
      "margin": null,
      "max_height": null,
      "max_width": null,
      "min_height": null,
      "min_width": null,
      "object_fit": null,
      "object_position": null,
      "order": null,
      "overflow": null,
      "overflow_x": null,
      "overflow_y": null,
      "padding": null,
      "right": null,
      "top": null,
      "visibility": null,
      "width": null
     }
    },
    "ba39418835c04371b42806cbf9f5c71b": {
     "model_module": "@jupyter-widgets/base",
     "model_module_version": "1.2.0",
     "model_name": "LayoutModel",
     "state": {
      "_model_module": "@jupyter-widgets/base",
      "_model_module_version": "1.2.0",
      "_model_name": "LayoutModel",
      "_view_count": null,
      "_view_module": "@jupyter-widgets/base",
      "_view_module_version": "1.2.0",
      "_view_name": "LayoutView",
      "align_content": null,
      "align_items": null,
      "align_self": null,
      "border": null,
      "bottom": null,
      "display": null,
      "flex": null,
      "flex_flow": null,
      "grid_area": null,
      "grid_auto_columns": null,
      "grid_auto_flow": null,
      "grid_auto_rows": null,
      "grid_column": null,
      "grid_gap": null,
      "grid_row": null,
      "grid_template_areas": null,
      "grid_template_columns": null,
      "grid_template_rows": null,
      "height": null,
      "justify_content": null,
      "justify_items": null,
      "left": null,
      "margin": null,
      "max_height": null,
      "max_width": null,
      "min_height": null,
      "min_width": null,
      "object_fit": null,
      "object_position": null,
      "order": null,
      "overflow": null,
      "overflow_x": null,
      "overflow_y": null,
      "padding": null,
      "right": null,
      "top": null,
      "visibility": null,
      "width": null
     }
    },
    "bd59b04353164204b26e4905fcfd16aa": {
     "model_module": "@jupyter-widgets/base",
     "model_module_version": "1.2.0",
     "model_name": "LayoutModel",
     "state": {
      "_model_module": "@jupyter-widgets/base",
      "_model_module_version": "1.2.0",
      "_model_name": "LayoutModel",
      "_view_count": null,
      "_view_module": "@jupyter-widgets/base",
      "_view_module_version": "1.2.0",
      "_view_name": "LayoutView",
      "align_content": null,
      "align_items": null,
      "align_self": null,
      "border": null,
      "bottom": null,
      "display": null,
      "flex": null,
      "flex_flow": null,
      "grid_area": null,
      "grid_auto_columns": null,
      "grid_auto_flow": null,
      "grid_auto_rows": null,
      "grid_column": null,
      "grid_gap": null,
      "grid_row": null,
      "grid_template_areas": null,
      "grid_template_columns": null,
      "grid_template_rows": null,
      "height": null,
      "justify_content": null,
      "justify_items": null,
      "left": null,
      "margin": null,
      "max_height": null,
      "max_width": null,
      "min_height": null,
      "min_width": null,
      "object_fit": null,
      "object_position": null,
      "order": null,
      "overflow": null,
      "overflow_x": null,
      "overflow_y": null,
      "padding": null,
      "right": null,
      "top": null,
      "visibility": null,
      "width": null
     }
    },
    "be1e01350e5c47d7ad84d78b372cb9b8": {
     "model_module": "@jupyter-widgets/controls",
     "model_module_version": "1.5.0",
     "model_name": "HTMLModel",
     "state": {
      "_dom_classes": [],
      "_model_module": "@jupyter-widgets/controls",
      "_model_module_version": "1.5.0",
      "_model_name": "HTMLModel",
      "_view_count": null,
      "_view_module": "@jupyter-widgets/controls",
      "_view_module_version": "1.5.0",
      "_view_name": "HTMLView",
      "description": "",
      "description_tooltip": null,
      "layout": "IPY_MODEL_904a6efc737e4b42ae9f8b1ff6933e85",
      "placeholder": "​",
      "style": "IPY_MODEL_b0e8b7cdfc1b4442b98a96c24301199f",
      "value": " 83.6k/83.6k [00:00&lt;00:00, 327kB/s]"
     }
    },
    "be5d6c6be7a24aec8879ac8bc4f0e023": {
     "model_module": "@jupyter-widgets/base",
     "model_module_version": "1.2.0",
     "model_name": "LayoutModel",
     "state": {
      "_model_module": "@jupyter-widgets/base",
      "_model_module_version": "1.2.0",
      "_model_name": "LayoutModel",
      "_view_count": null,
      "_view_module": "@jupyter-widgets/base",
      "_view_module_version": "1.2.0",
      "_view_name": "LayoutView",
      "align_content": null,
      "align_items": null,
      "align_self": null,
      "border": null,
      "bottom": null,
      "display": null,
      "flex": null,
      "flex_flow": null,
      "grid_area": null,
      "grid_auto_columns": null,
      "grid_auto_flow": null,
      "grid_auto_rows": null,
      "grid_column": null,
      "grid_gap": null,
      "grid_row": null,
      "grid_template_areas": null,
      "grid_template_columns": null,
      "grid_template_rows": null,
      "height": null,
      "justify_content": null,
      "justify_items": null,
      "left": null,
      "margin": null,
      "max_height": null,
      "max_width": null,
      "min_height": null,
      "min_width": null,
      "object_fit": null,
      "object_position": null,
      "order": null,
      "overflow": null,
      "overflow_x": null,
      "overflow_y": null,
      "padding": null,
      "right": null,
      "top": null,
      "visibility": null,
      "width": null
     }
    },
    "c00e6bdced624448b49f723682a4bba5": {
     "model_module": "@jupyter-widgets/base",
     "model_module_version": "1.2.0",
     "model_name": "LayoutModel",
     "state": {
      "_model_module": "@jupyter-widgets/base",
      "_model_module_version": "1.2.0",
      "_model_name": "LayoutModel",
      "_view_count": null,
      "_view_module": "@jupyter-widgets/base",
      "_view_module_version": "1.2.0",
      "_view_name": "LayoutView",
      "align_content": null,
      "align_items": null,
      "align_self": null,
      "border": null,
      "bottom": null,
      "display": null,
      "flex": null,
      "flex_flow": null,
      "grid_area": null,
      "grid_auto_columns": null,
      "grid_auto_flow": null,
      "grid_auto_rows": null,
      "grid_column": null,
      "grid_gap": null,
      "grid_row": null,
      "grid_template_areas": null,
      "grid_template_columns": null,
      "grid_template_rows": null,
      "height": null,
      "justify_content": null,
      "justify_items": null,
      "left": null,
      "margin": null,
      "max_height": null,
      "max_width": null,
      "min_height": null,
      "min_width": null,
      "object_fit": null,
      "object_position": null,
      "order": null,
      "overflow": null,
      "overflow_x": null,
      "overflow_y": null,
      "padding": null,
      "right": null,
      "top": null,
      "visibility": null,
      "width": null
     }
    },
    "c300ffdd25e44df089a2d8e1f946403d": {
     "model_module": "@jupyter-widgets/controls",
     "model_module_version": "1.5.0",
     "model_name": "FloatProgressModel",
     "state": {
      "_dom_classes": [],
      "_model_module": "@jupyter-widgets/controls",
      "_model_module_version": "1.5.0",
      "_model_name": "FloatProgressModel",
      "_view_count": null,
      "_view_module": "@jupyter-widgets/controls",
      "_view_module_version": "1.5.0",
      "_view_name": "ProgressView",
      "bar_style": "success",
      "description": "",
      "description_tooltip": null,
      "layout": "IPY_MODEL_12476da3c003403fa939543c692b87ac",
      "max": 83594,
      "min": 0,
      "orientation": "horizontal",
      "style": "IPY_MODEL_b01b303d85cc48daa5c0e15348567468",
      "value": 83594
     }
    },
    "c49a1382353e48c9b1d7b7315d8a6b98": {
     "model_module": "@jupyter-widgets/controls",
     "model_module_version": "1.5.0",
     "model_name": "HTMLModel",
     "state": {
      "_dom_classes": [],
      "_model_module": "@jupyter-widgets/controls",
      "_model_module_version": "1.5.0",
      "_model_name": "HTMLModel",
      "_view_count": null,
      "_view_module": "@jupyter-widgets/controls",
      "_view_module_version": "1.5.0",
      "_view_name": "HTMLView",
      "description": "",
      "description_tooltip": null,
      "layout": "IPY_MODEL_be5d6c6be7a24aec8879ac8bc4f0e023",
      "placeholder": "​",
      "style": "IPY_MODEL_7c2353ec9ae64601ba22dd0651b1167b",
      "value": "userTrain_videos_resized_224.zip: 100%"
     }
    },
    "d12548fc28534ceda6ad1ad362127df1": {
     "model_module": "@jupyter-widgets/controls",
     "model_module_version": "1.5.0",
     "model_name": "HTMLModel",
     "state": {
      "_dom_classes": [],
      "_model_module": "@jupyter-widgets/controls",
      "_model_module_version": "1.5.0",
      "_model_name": "HTMLModel",
      "_view_count": null,
      "_view_module": "@jupyter-widgets/controls",
      "_view_module_version": "1.5.0",
      "_view_name": "HTMLView",
      "description": "",
      "description_tooltip": null,
      "layout": "IPY_MODEL_a5ff7c6da4e745629625f12e885e5450",
      "placeholder": "​",
      "style": "IPY_MODEL_449f9ea3d5024a15a916c8ade8f66ddd",
      "value": " 3.50G/3.50G [06:44&lt;00:00, 8.79MB/s]"
     }
    },
    "d18968183ca7409cb4fde97109497e8d": {
     "model_module": "@jupyter-widgets/base",
     "model_module_version": "1.2.0",
     "model_name": "LayoutModel",
     "state": {
      "_model_module": "@jupyter-widgets/base",
      "_model_module_version": "1.2.0",
      "_model_name": "LayoutModel",
      "_view_count": null,
      "_view_module": "@jupyter-widgets/base",
      "_view_module_version": "1.2.0",
      "_view_name": "LayoutView",
      "align_content": null,
      "align_items": null,
      "align_self": null,
      "border": null,
      "bottom": null,
      "display": null,
      "flex": null,
      "flex_flow": null,
      "grid_area": null,
      "grid_auto_columns": null,
      "grid_auto_flow": null,
      "grid_auto_rows": null,
      "grid_column": null,
      "grid_gap": null,
      "grid_row": null,
      "grid_template_areas": null,
      "grid_template_columns": null,
      "grid_template_rows": null,
      "height": null,
      "justify_content": null,
      "justify_items": null,
      "left": null,
      "margin": null,
      "max_height": null,
      "max_width": null,
      "min_height": null,
      "min_width": null,
      "object_fit": null,
      "object_position": null,
      "order": null,
      "overflow": null,
      "overflow_x": null,
      "overflow_y": null,
      "padding": null,
      "right": null,
      "top": null,
      "visibility": null,
      "width": null
     }
    },
    "d299b86f10104795aa8c9dbf73e8aea6": {
     "model_module": "@jupyter-widgets/controls",
     "model_module_version": "1.5.0",
     "model_name": "HBoxModel",
     "state": {
      "_dom_classes": [],
      "_model_module": "@jupyter-widgets/controls",
      "_model_module_version": "1.5.0",
      "_model_name": "HBoxModel",
      "_view_count": null,
      "_view_module": "@jupyter-widgets/controls",
      "_view_module_version": "1.5.0",
      "_view_name": "HBoxView",
      "box_style": "",
      "children": [
       "IPY_MODEL_155b6de822ee49ac9ea08bb9864ee015",
       "IPY_MODEL_5a9152ae7e57488386d7d86519aca371",
       "IPY_MODEL_709415a687344783839b97337bb09b28"
      ],
      "layout": "IPY_MODEL_c00e6bdced624448b49f723682a4bba5"
     }
    },
    "d649896642354c479370eb07296bd0d9": {
     "model_module": "@jupyter-widgets/controls",
     "model_module_version": "1.5.0",
     "model_name": "DescriptionStyleModel",
     "state": {
      "_model_module": "@jupyter-widgets/controls",
      "_model_module_version": "1.5.0",
      "_model_name": "DescriptionStyleModel",
      "_view_count": null,
      "_view_module": "@jupyter-widgets/base",
      "_view_module_version": "1.2.0",
      "_view_name": "StyleView",
      "description_width": ""
     }
    },
    "d812727782824881b3a1b61396cff947": {
     "model_module": "@jupyter-widgets/controls",
     "model_module_version": "1.5.0",
     "model_name": "HTMLModel",
     "state": {
      "_dom_classes": [],
      "_model_module": "@jupyter-widgets/controls",
      "_model_module_version": "1.5.0",
      "_model_name": "HTMLModel",
      "_view_count": null,
      "_view_module": "@jupyter-widgets/controls",
      "_view_module_version": "1.5.0",
      "_view_name": "HTMLView",
      "description": "",
      "description_tooltip": null,
      "layout": "IPY_MODEL_7d22c936f6c7442fa708e53f9e217f1b",
      "placeholder": "​",
      "style": "IPY_MODEL_6a89705d8880413d9f844d7c149ea017",
      "value": "user_train.npy: 100%"
     }
    },
    "da7efb77d31a416d938d359ba8cf543c": {
     "model_module": "@jupyter-widgets/controls",
     "model_module_version": "1.5.0",
     "model_name": "FloatProgressModel",
     "state": {
      "_dom_classes": [],
      "_model_module": "@jupyter-widgets/controls",
      "_model_module_version": "1.5.0",
      "_model_name": "FloatProgressModel",
      "_view_count": null,
      "_view_module": "@jupyter-widgets/controls",
      "_view_module_version": "1.5.0",
      "_view_name": "ProgressView",
      "bar_style": "success",
      "description": "",
      "description_tooltip": null,
      "layout": "IPY_MODEL_4d49f6ae133e4880a8a0e9ba816b4230",
      "max": 1499233092,
      "min": 0,
      "orientation": "horizontal",
      "style": "IPY_MODEL_4db5081cc8e145f3886902007f9109fc",
      "value": 1499233092
     }
    },
    "e7a655c812414ea4be83760fc3a88a93": {
     "model_module": "@jupyter-widgets/base",
     "model_module_version": "1.2.0",
     "model_name": "LayoutModel",
     "state": {
      "_model_module": "@jupyter-widgets/base",
      "_model_module_version": "1.2.0",
      "_model_name": "LayoutModel",
      "_view_count": null,
      "_view_module": "@jupyter-widgets/base",
      "_view_module_version": "1.2.0",
      "_view_name": "LayoutView",
      "align_content": null,
      "align_items": null,
      "align_self": null,
      "border": null,
      "bottom": null,
      "display": null,
      "flex": null,
      "flex_flow": null,
      "grid_area": null,
      "grid_auto_columns": null,
      "grid_auto_flow": null,
      "grid_auto_rows": null,
      "grid_column": null,
      "grid_gap": null,
      "grid_row": null,
      "grid_template_areas": null,
      "grid_template_columns": null,
      "grid_template_rows": null,
      "height": null,
      "justify_content": null,
      "justify_items": null,
      "left": null,
      "margin": null,
      "max_height": null,
      "max_width": null,
      "min_height": null,
      "min_width": null,
      "object_fit": null,
      "object_position": null,
      "order": null,
      "overflow": null,
      "overflow_x": null,
      "overflow_y": null,
      "padding": null,
      "right": null,
      "top": null,
      "visibility": null,
      "width": null
     }
    },
    "ef934520e0f94dfcaeed4f28a9fe5c31": {
     "model_module": "@jupyter-widgets/controls",
     "model_module_version": "1.5.0",
     "model_name": "DescriptionStyleModel",
     "state": {
      "_model_module": "@jupyter-widgets/controls",
      "_model_module_version": "1.5.0",
      "_model_name": "DescriptionStyleModel",
      "_view_count": null,
      "_view_module": "@jupyter-widgets/base",
      "_view_module_version": "1.2.0",
      "_view_name": "StyleView",
      "description_width": ""
     }
    },
    "f3d850ee4c624ee69ee97671274bc112": {
     "model_module": "@jupyter-widgets/controls",
     "model_module_version": "1.5.0",
     "model_name": "HBoxModel",
     "state": {
      "_dom_classes": [],
      "_model_module": "@jupyter-widgets/controls",
      "_model_module_version": "1.5.0",
      "_model_name": "HBoxModel",
      "_view_count": null,
      "_view_module": "@jupyter-widgets/controls",
      "_view_module_version": "1.5.0",
      "_view_name": "HBoxView",
      "box_style": "",
      "children": [
       "IPY_MODEL_42c1aadca08842a6a7e71d886a562d1d",
       "IPY_MODEL_c300ffdd25e44df089a2d8e1f946403d",
       "IPY_MODEL_be1e01350e5c47d7ad84d78b372cb9b8"
      ],
      "layout": "IPY_MODEL_e7a655c812414ea4be83760fc3a88a93"
     }
    },
    "f89c9a11610343c2ac3146f7dec15d6f": {
     "model_module": "@jupyter-widgets/controls",
     "model_module_version": "1.5.0",
     "model_name": "HBoxModel",
     "state": {
      "_dom_classes": [],
      "_model_module": "@jupyter-widgets/controls",
      "_model_module_version": "1.5.0",
      "_model_name": "HBoxModel",
      "_view_count": null,
      "_view_module": "@jupyter-widgets/controls",
      "_view_module_version": "1.5.0",
      "_view_name": "HBoxView",
      "box_style": "",
      "children": [
       "IPY_MODEL_c49a1382353e48c9b1d7b7315d8a6b98",
       "IPY_MODEL_da7efb77d31a416d938d359ba8cf543c",
       "IPY_MODEL_9c0243b2c86b4039a93c4ae0ab536f30"
      ],
      "layout": "IPY_MODEL_d18968183ca7409cb4fde97109497e8d"
     }
    },
    "fcd4c42e0eeb4bb7be6f1eb80eda5581": {
     "model_module": "@jupyter-widgets/base",
     "model_module_version": "1.2.0",
     "model_name": "LayoutModel",
     "state": {
      "_model_module": "@jupyter-widgets/base",
      "_model_module_version": "1.2.0",
      "_model_name": "LayoutModel",
      "_view_count": null,
      "_view_module": "@jupyter-widgets/base",
      "_view_module_version": "1.2.0",
      "_view_name": "LayoutView",
      "align_content": null,
      "align_items": null,
      "align_self": null,
      "border": null,
      "bottom": null,
      "display": null,
      "flex": null,
      "flex_flow": null,
      "grid_area": null,
      "grid_auto_columns": null,
      "grid_auto_flow": null,
      "grid_auto_rows": null,
      "grid_column": null,
      "grid_gap": null,
      "grid_row": null,
      "grid_template_areas": null,
      "grid_template_columns": null,
      "grid_template_rows": null,
      "height": null,
      "justify_content": null,
      "justify_items": null,
      "left": null,
      "margin": null,
      "max_height": null,
      "max_width": null,
      "min_height": null,
      "min_width": null,
      "object_fit": null,
      "object_position": null,
      "order": null,
      "overflow": null,
      "overflow_x": null,
      "overflow_y": null,
      "padding": null,
      "right": null,
      "top": null,
      "visibility": null,
      "width": null
     }
    }
   }
  }
 },
 "nbformat": 4,
 "nbformat_minor": 4
}
