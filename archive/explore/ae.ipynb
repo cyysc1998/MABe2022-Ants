{
 "cells": [
  {
   "cell_type": "code",
   "execution_count": 1,
   "metadata": {},
   "outputs": [],
   "source": [
    "import sklearn\n",
    "import numpy as np\n",
    "import matplotlib.pyplot as plt\n",
    "%matplotlib inline\n",
    "\n",
    "from sklearn.neural_network import MLPRegressor\n",
    "from sklearn.metrics import accuracy_score"
   ]
  },
  {
   "cell_type": "code",
   "execution_count": null,
   "metadata": {},
   "outputs": [],
   "source": [
    "import torch\n",
    "import torch.nn.functional as F\n",
    "\n",
    "def bmc_loss(pred, target, noise_var):\n",
    "    \"\"\"Compute the Balanced MSE Loss (BMC) between `pred` and the ground truth `targets`.\n",
    "    Args:\n",
    "      pred: A float tensor of size [batch, 1].\n",
    "      target: A float tensor of size [batch, 1].\n",
    "      noise_var: A float number or tensor.\n",
    "    Returns:\n",
    "      loss: A float tensor. Balanced MSE Loss.\n",
    "    \"\"\"\n",
    "    logits = - (pred - target.T).pow(2) / (2 * noise_var)   # logit s ize:[batch, batch]\n",
    "    loss = F.cross_entropy(logits, torch.arange(pred.shape[0]))     # contrastive-like loss\n",
    "    loss = loss * (2 * noise_var).detach()  # optional: restore the loss scale, 'detach' when noise is learnable\n",
    "\n",
    "    return loss"
   ]
  }
 ],
 "metadata": {
  "kernelspec": {
   "display_name": "Python 3.8.12 ('py38': conda)",
   "language": "python",
   "name": "python3"
  },
  "language_info": {
   "codemirror_mode": {
    "name": "ipython",
    "version": 3
   },
   "file_extension": ".py",
   "mimetype": "text/x-python",
   "name": "python",
   "nbconvert_exporter": "python",
   "pygments_lexer": "ipython3",
   "version": "3.8.12"
  },
  "orig_nbformat": 4,
  "vscode": {
   "interpreter": {
    "hash": "7f736f3204584ee688e021cf967f793258c9e4177cdfa2432a7457834e0966b3"
   }
  }
 },
 "nbformat": 4,
 "nbformat_minor": 2
}
