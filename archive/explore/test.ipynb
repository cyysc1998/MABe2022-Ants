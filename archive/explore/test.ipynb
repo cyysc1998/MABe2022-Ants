{
 "cells": [
  {
   "cell_type": "code",
   "execution_count": 1,
   "metadata": {},
   "outputs": [],
   "source": []
  },
  {
   "cell_type": "code",
   "execution_count": 23,
   "metadata": {},
   "outputs": [
    {
     "name": "stdout",
     "output_type": "stream",
     "text": [
      "The distance between each point and its closest centroid: 1.7012314528109918\n",
      "The distance between each point and its closest centroid: 1.7337312595533294\n",
      "The distance between each point and its closest centroid: 1.745034985017122\n",
      "The distance between each point and its closest centroid: 1.7500085519414894\n",
      "The distance between each point and its closest centroid: 1.752117513227962\n",
      "The distance between each point and its closest centroid: 1.756031854448831\n",
      "The distance between each point and its closest centroid: 1.7574548995377157\n",
      "The distance between each point and its closest centroid: 1.7585967857954725\n",
      "The distance between each point and its closest centroid: 1.759315174653559\n",
      "The distance between each point and its closest centroid: 1.7596937190782644\n",
      "The distance between each point and its closest centroid: 1.7599814950417862\n",
      "The distance between each point and its closest centroid: 1.7603254399179784\n",
      "The distance between each point and its closest centroid: 1.7603254399179784\n",
      "The distance between each point and its closest centroid: 1.7603254399179784\n",
      "The distance between each point and its closest centroid: 1.7603254399179784\n",
      "The distance between each point and its closest centroid: 1.7603254399179784\n",
      "The distance between each point and its closest centroid: 1.7603254399179784\n",
      "The distance between each point and its closest centroid: 1.7603254399179784\n",
      "The distance between each point and its closest centroid: 1.7603254399179784\n",
      "The distance between each point and its closest centroid: 1.7603254399179784\n"
     ]
    },
    {
     "data": {
      "image/png": "[encoded data removed]",
      "text/plain": [
       "<Figure size 432x288 with 1 Axes>"
      ]
     },
     "metadata": {
      "needs_background": "light"
     },
     "output_type": "display_data"
    }
   ],
   "source": [
    "import numpy as np\n",
    "from matplotlib import pyplot as plt\n",
    "\n",
    "def k_means(points, K, max_iterations=20, init_states=None):\n",
    "    N, D = points.shape\n",
    "    if init_states is None:\n",
    "        init_states = np.random.rand(K, D)\n",
    "\n",
    "    cur_iter = 0\n",
    "    centroids = init_states\n",
    "    while cur_iter < max_iterations:\n",
    "        # Assign each point to the closest centroid\n",
    "        dist = np.linalg.norm(points[:, None, :] - centroids[None, :, :], axis=2)\n",
    "        closest_centroid = np.argmin(dist, axis=1)\n",
    "        \n",
    "        # Update the centroids\n",
    "        for i in range(K):\n",
    "            centroids[i] = np.mean(points[closest_centroid == i], axis=0)\n",
    "\n",
    "        # Compute the distance between each point and its closest centroid\n",
    "        dist_to_centroid = np.linalg.norm(points[:, None, :] - centroids[None, closest_centroid, :], axis=2).mean()\n",
    "        print(f'The distance between each point and its closest centroid: {dist_to_centroid}')\n",
    "        cur_iter += 1\n",
    "\n",
    "    assign_points = []\n",
    "    for i in range(K):\n",
    "        assign_points.append(points[closest_centroid == i])\n",
    "    return centroids, assign_points\n",
    "\n",
    "cluster1 = np.random.normal(0, 0.7, (100, 2))\n",
    "cluster2 = np.random.normal(-1, 0.7, (100, 2))\n",
    "cluster3 = np.random.normal(1, 0.7, (100, 2))\n",
    "points = np.concatenate([cluster1, cluster2, cluster3], axis=0)\n",
    "\n",
    "centroids, assign_points = k_means(points, K=3)\n",
    "plt.plot(points[:, 0], points[:, 1], 'o')\n",
    "plt.plot(centroids[:, 0], centroids[:, 1], 'ro')\n",
    "plt.show()"
   ]
  },
  {
   "cell_type": "code",
   "execution_count": 27,
   "metadata": {},
   "outputs": [
    {
     "name": "stdout",
     "output_type": "stream",
     "text": [
      "(200, 2)\n"
     ]
    },
    {
     "data": {
      "image/png": "[encoded data removed]",
      "text/plain": [
       "<Figure size 432x288 with 1 Axes>"
      ]
     },
     "metadata": {
      "needs_background": "light"
     },
     "output_type": "display_data"
    }
   ],
   "source": [
    "import numpy as np\n",
    "from matplotlib import pyplot as plt\n",
    "\n",
    "def knn_search(search_point, points, labels, K):\n",
    "    N, D = points.shape\n",
    "    dist = np.linalg.norm(points - search_point[None, :], axis=1)\n",
    "    indices = np.argsort(dist)[:K]\n",
    "    candidate_label = labels[indices]\n",
    "    label = np.argmax(np.bincount(candidate_label.reshape(-1)))\n",
    "    return label, indices\n",
    "\n",
    "points = np.concatenate([\n",
    "    np.random.normal(0, 1, (100, 2)),\n",
    "    np.random.normal(-1, 1, (100, 2)),\n",
    "], axis=0)\n",
    "labels = np.concatenate([\n",
    "    np.zeros((100, 1), dtype=np.int32),\n",
    "    np.ones((100, 1), dtype=np.int32)\n",
    "], axis=0)\n",
    "p = np.array([0.12, 0.75])\n",
    "\n",
    "label, indices = knn_search(p, points, labels, K=20)\n",
    "print(points.shape)\n",
    "plt.plot(p[0], p[1], 'go')\n",
    "plt.plot(points[:, 0], points[:, 1], 'o')\n",
    "plt.plot(points[indices][:, 0], points[indices][:, 1], 'ro')\n",
    "plt.show()"
   ]
  },
  {
   "cell_type": "code",
   "execution_count": 1,
   "metadata": {},
   "outputs": [
    {
     "name": "stdout",
     "output_type": "stream",
     "text": [
      "[0 4 3 0 2 3 3 3 3 4]\n"
     ]
    }
   ],
   "source": [
    "import numpy as np\n",
    "\n",
    "l = np.random.randint(0, 5, (10))\n",
    "max_num_indices = l."
   ]
  },
  {
   "cell_type": "code",
   "execution_count": 11,
   "metadata": {},
   "outputs": [
    {
     "name": "stdout",
     "output_type": "stream",
     "text": [
      "0b100\n",
      "-0b100\n",
      "-5\n"
     ]
    },
    {
     "data": {
      "text/plain": [
       "4"
      ]
     },
     "execution_count": 11,
     "metadata": {},
     "output_type": "execute_result"
    }
   ],
   "source": [
    "print(bin(4))\n",
    "print(bin(-4))\n",
    "print(~4)\n",
    "4 & (-4)"
   ]
  },
  {
   "cell_type": "code",
   "execution_count": 4,
   "metadata": {},
   "outputs": [
    {
     "name": "stdout",
     "output_type": "stream",
     "text": [
      "0b11000\n",
      "0\n",
      "0\n",
      "0\n",
      "1\n",
      "1\n",
      "0\n",
      "0\n"
     ]
    }
   ],
   "source": [
    "def find_k(n, k):\n",
    "\treturn (n >> k) & 1\n",
    "\n",
    "n = 24\n",
    "print(bin(n))\n",
    "for i in range(len(bin(n))):\n",
    "    print(find_k(n, i))"
   ]
  },
  {
   "cell_type": "code",
   "execution_count": 31,
   "metadata": {},
   "outputs": [
    {
     "name": "stdout",
     "output_type": "stream",
     "text": [
      "(8, 12, 12)\n"
     ]
    }
   ],
   "source": [
    "import numpy as np\n",
    "\n",
    "\n",
    "class Conv:\n",
    "    def __init__(self, in_channel, out_channel, kernel_size=3, padding=0, stride=1):\n",
    "        self.in_channel = in_channel\n",
    "        self.out_channel = out_channel\n",
    "        self.kernel_size = kernel_size\n",
    "        self.padding = padding\n",
    "        self.stride = stride\n",
    "        self.filter = np.random.randn(in_channel, out_channel, kernel_size, kernel_size) / (kernel_size * kernel_size)\n",
    "\n",
    "    def iter_regions(self, images):\n",
    "        padded_images = np.pad(images, ((0, 0), (self.padding, self.padding), \\\n",
    "                (self.padding, self.padding)), 'constant', constant_values=0)\n",
    "\n",
    "        _, _H, _W = padded_images.shape\n",
    "        for i in range(0, (_H - self.kernel_size + 1) // self.stride, self.stride):\n",
    "            for j in range(0, (_W - self.kernel_size + 1) // self.stride, self.stride):\n",
    "                region = padded_images[:, i: i + self.kernel_size, j: j + self.kernel_size]\n",
    "                yield region, i, j\n",
    "\n",
    "    def forward(self, images):\n",
    "        assert len(images.shape) == 3, f\"Shape of images should be (C, H, W)\"\n",
    "        _, H, W = images.shape\n",
    "        \n",
    "        output_H = (H + 2 * self.padding - self.kernel_size) // self.stride + 1\n",
    "        output_W = (W + 2 * self.padding - self.kernel_size) // self.stride + 1\n",
    "        output = np.zeros((self.out_channel, output_H, output_W))\n",
    "\n",
    "        for region, i, j in self.iter_regions(images):\n",
    "            output[:, i, j] = (self.filter.transpose(1, 0, 2, 3) * region).sum(axis=(1, 2, 3))\n",
    "\n",
    "        return output\n",
    "\n",
    "    def __call__(self, images):\n",
    "        return self.forward(images)\n",
    "\n",
    "    # TODO\n",
    "    '''\n",
    "    def backward(self):\n",
    "        pass\n",
    "    '''\n",
    "\n",
    "\n",
    "conv3x3 = Conv(3, 8, 4, 0, 2)\n",
    "x = np.random.rand(3, 26, 26)\n",
    "y = conv3x3(x)\n",
    "print(y.shape)\n"
   ]
  },
  {
   "cell_type": "code",
   "execution_count": 26,
   "metadata": {},
   "outputs": [
    {
     "data": {
      "text/plain": [
       "3"
      ]
     },
     "execution_count": 26,
     "metadata": {},
     "output_type": "execute_result"
    }
   ],
   "source": [
    "13 // 4"
   ]
  },
  {
   "cell_type": "code",
   "execution_count": 9,
   "metadata": {},
   "outputs": [
    {
     "ename": "RuntimeError",
     "evalue": "value cannot be converted to type int64_t without overflow: nan",
     "output_type": "error",
     "traceback": [
      "\u001b[0;31m---------------------------------------------------------------------------\u001b[0m",
      "\u001b[0;31mRuntimeError\u001b[0m                              Traceback (most recent call last)",
      "\u001b[1;32m/home/sunchao/Multi_Agent_Round_2/test.ipynb Cell 9'\u001b[0m in \u001b[0;36m<cell line: 7>\u001b[0;34m()\u001b[0m\n\u001b[1;32m      <a href='vscode-notebook-cell://ssh-remote%2Bwukong/home/sunchao/Multi_Agent_Round_2/test.ipynb#ch0000008vscode-remote?line=4'>5</a>\u001b[0m x \u001b[39m=\u001b[39m torch\u001b[39m.\u001b[39mrand(\u001b[39m4\u001b[39m, \u001b[39m10\u001b[39m)\n\u001b[1;32m      <a href='vscode-notebook-cell://ssh-remote%2Bwukong/home/sunchao/Multi_Agent_Round_2/test.ipynb#ch0000008vscode-remote?line=5'>6</a>\u001b[0m y \u001b[39m=\u001b[39m torch\u001b[39m.\u001b[39mtensor([\u001b[39m1\u001b[39m, \u001b[39m0\u001b[39m, \u001b[39m0\u001b[39m, \u001b[39m1\u001b[39m], dtype\u001b[39m=\u001b[39m\u001b[39mint\u001b[39m)\n\u001b[0;32m----> <a href='vscode-notebook-cell://ssh-remote%2Bwukong/home/sunchao/Multi_Agent_Round_2/test.ipynb#ch0000008vscode-remote?line=6'>7</a>\u001b[0m y[\u001b[39m2\u001b[39m] \u001b[39m=\u001b[39m np\u001b[39m.\u001b[39mnan\n\u001b[1;32m      <a href='vscode-notebook-cell://ssh-remote%2Bwukong/home/sunchao/Multi_Agent_Round_2/test.ipynb#ch0000008vscode-remote?line=7'>8</a>\u001b[0m \u001b[39mprint\u001b[39m(y)\n\u001b[1;32m      <a href='vscode-notebook-cell://ssh-remote%2Bwukong/home/sunchao/Multi_Agent_Round_2/test.ipynb#ch0000008vscode-remote?line=8'>9</a>\u001b[0m ce \u001b[39m=\u001b[39m nn\u001b[39m.\u001b[39mCrossEntropyLoss()\n",
      "\u001b[0;31mRuntimeError\u001b[0m: value cannot be converted to type int64_t without overflow: nan"
     ]
    }
   ],
   "source": [
    "import torch\n",
    "import torch.nn as nn\n",
    "import numpy as np\n",
    "\n",
    "x = torch.rand(4, 10)\n",
    "y = torch.tensor([1, 0, 0, 1], dtype=int)\n",
    "y[2] = np.nan\n",
    "print(y)\n",
    "ce = nn.CrossEntropyLoss()\n",
    "\n",
    "loss = ce(x, y)\n",
    "print(loss)"
   ]
  },
  {
   "cell_type": "code",
   "execution_count": 17,
   "metadata": {},
   "outputs": [
    {
     "name": "stdout",
     "output_type": "stream",
     "text": [
      "[ 0.  1.  1. nan]\n",
      "tensor([[0.2051, 0.6958],\n",
      "        [0.9428, 0.8744],\n",
      "        [0.3118, 0.9690],\n",
      "        [0.7936, 0.5108]], dtype=torch.float64)\n",
      "tensor([                   0,                    1,                    1,\n",
      "        -9223372036854775808])\n"
     ]
    },
    {
     "ename": "IndexError",
     "evalue": "Target -9223372036854775808 is out of bounds.",
     "output_type": "error",
     "traceback": [
      "\u001b[0;31m---------------------------------------------------------------------------\u001b[0m",
      "\u001b[0;31mIndexError\u001b[0m                                Traceback (most recent call last)",
      "\u001b[1;32m/home/sunchao/Multi_Agent_Round_2/test.ipynb Cell 10'\u001b[0m in \u001b[0;36m<cell line: 16>\u001b[0;34m()\u001b[0m\n\u001b[1;32m     <a href='vscode-notebook-cell://ssh-remote%2Bwukong/home/sunchao/Multi_Agent_Round_2/test.ipynb#ch0000009vscode-remote?line=13'>14</a>\u001b[0m \u001b[39mprint\u001b[39m(x)\n\u001b[1;32m     <a href='vscode-notebook-cell://ssh-remote%2Bwukong/home/sunchao/Multi_Agent_Round_2/test.ipynb#ch0000009vscode-remote?line=14'>15</a>\u001b[0m \u001b[39mprint\u001b[39m(y)\n\u001b[0;32m---> <a href='vscode-notebook-cell://ssh-remote%2Bwukong/home/sunchao/Multi_Agent_Round_2/test.ipynb#ch0000009vscode-remote?line=15'>16</a>\u001b[0m loss \u001b[39m=\u001b[39m ce(x, y)\n\u001b[1;32m     <a href='vscode-notebook-cell://ssh-remote%2Bwukong/home/sunchao/Multi_Agent_Round_2/test.ipynb#ch0000009vscode-remote?line=16'>17</a>\u001b[0m \u001b[39mprint\u001b[39m(loss)\n",
      "File \u001b[0;32m~/anaconda3/envs/py38/lib/python3.8/site-packages/torch/nn/modules/module.py:1051\u001b[0m, in \u001b[0;36mModule._call_impl\u001b[0;34m(self, *input, **kwargs)\u001b[0m\n\u001b[1;32m   1047\u001b[0m \u001b[39m# If we don't have any hooks, we want to skip the rest of the logic in\u001b[39;00m\n\u001b[1;32m   1048\u001b[0m \u001b[39m# this function, and just call forward.\u001b[39;00m\n\u001b[1;32m   1049\u001b[0m \u001b[39mif\u001b[39;00m \u001b[39mnot\u001b[39;00m (\u001b[39mself\u001b[39m\u001b[39m.\u001b[39m_backward_hooks \u001b[39mor\u001b[39;00m \u001b[39mself\u001b[39m\u001b[39m.\u001b[39m_forward_hooks \u001b[39mor\u001b[39;00m \u001b[39mself\u001b[39m\u001b[39m.\u001b[39m_forward_pre_hooks \u001b[39mor\u001b[39;00m _global_backward_hooks\n\u001b[1;32m   1050\u001b[0m         \u001b[39mor\u001b[39;00m _global_forward_hooks \u001b[39mor\u001b[39;00m _global_forward_pre_hooks):\n\u001b[0;32m-> 1051\u001b[0m     \u001b[39mreturn\u001b[39;00m forward_call(\u001b[39m*\u001b[39;49m\u001b[39minput\u001b[39;49m, \u001b[39m*\u001b[39;49m\u001b[39m*\u001b[39;49mkwargs)\n\u001b[1;32m   1052\u001b[0m \u001b[39m# Do not call functions when jit is used\u001b[39;00m\n\u001b[1;32m   1053\u001b[0m full_backward_hooks, non_full_backward_hooks \u001b[39m=\u001b[39m [], []\n",
      "File \u001b[0;32m~/anaconda3/envs/py38/lib/python3.8/site-packages/torch/nn/modules/loss.py:1120\u001b[0m, in \u001b[0;36mCrossEntropyLoss.forward\u001b[0;34m(self, input, target)\u001b[0m\n\u001b[1;32m   1119\u001b[0m \u001b[39mdef\u001b[39;00m \u001b[39mforward\u001b[39m(\u001b[39mself\u001b[39m, \u001b[39minput\u001b[39m: Tensor, target: Tensor) \u001b[39m-\u001b[39m\u001b[39m>\u001b[39m Tensor:\n\u001b[0;32m-> 1120\u001b[0m     \u001b[39mreturn\u001b[39;00m F\u001b[39m.\u001b[39;49mcross_entropy(\u001b[39minput\u001b[39;49m, target, weight\u001b[39m=\u001b[39;49m\u001b[39mself\u001b[39;49m\u001b[39m.\u001b[39;49mweight,\n\u001b[1;32m   1121\u001b[0m                            ignore_index\u001b[39m=\u001b[39;49m\u001b[39mself\u001b[39;49m\u001b[39m.\u001b[39;49mignore_index, reduction\u001b[39m=\u001b[39;49m\u001b[39mself\u001b[39;49m\u001b[39m.\u001b[39;49mreduction)\n",
      "File \u001b[0;32m~/anaconda3/envs/py38/lib/python3.8/site-packages/torch/nn/functional.py:2824\u001b[0m, in \u001b[0;36mcross_entropy\u001b[0;34m(input, target, weight, size_average, ignore_index, reduce, reduction)\u001b[0m\n\u001b[1;32m   2822\u001b[0m \u001b[39mif\u001b[39;00m size_average \u001b[39mis\u001b[39;00m \u001b[39mnot\u001b[39;00m \u001b[39mNone\u001b[39;00m \u001b[39mor\u001b[39;00m reduce \u001b[39mis\u001b[39;00m \u001b[39mnot\u001b[39;00m \u001b[39mNone\u001b[39;00m:\n\u001b[1;32m   2823\u001b[0m     reduction \u001b[39m=\u001b[39m _Reduction\u001b[39m.\u001b[39mlegacy_get_string(size_average, reduce)\n\u001b[0;32m-> 2824\u001b[0m \u001b[39mreturn\u001b[39;00m torch\u001b[39m.\u001b[39;49m_C\u001b[39m.\u001b[39;49m_nn\u001b[39m.\u001b[39;49mcross_entropy_loss(\u001b[39minput\u001b[39;49m, target, weight, _Reduction\u001b[39m.\u001b[39;49mget_enum(reduction), ignore_index)\n",
      "\u001b[0;31mIndexError\u001b[0m: Target -9223372036854775808 is out of bounds."
     ]
    }
   ],
   "source": [
    "import torch\n",
    "import torch.nn as nn\n",
    "import numpy as np\n",
    "\n",
    "x = np.random.rand(4, 2)\n",
    "y = np.array([\n",
    "    0, 1, 1, np.nan\n",
    "])\n",
    "print(y)\n",
    "ce = nn.CrossEntropyLoss()\n",
    "\n",
    "x, y = torch.from_numpy(x), torch.from_numpy(y)\n",
    "y = y.long()\n",
    "print(x)\n",
    "print(y)\n",
    "loss = ce(x, y)\n",
    "print(loss)"
   ]
  }
 ],
 "metadata": {
  "kernelspec": {
   "display_name": "Python 3 (ipykernel)",
   "language": "python",
   "name": "python3"
  },
  "language_info": {
   "codemirror_mode": {
    "name": "ipython",
    "version": 3
   },
   "file_extension": ".py",
   "mimetype": "text/x-python",
   "name": "python",
   "nbconvert_exporter": "python",
   "pygments_lexer": "ipython3",
   "version": "3.8.12"
  },
  "vscode": {
   "interpreter": {
    "hash": "7f736f3204584ee688e021cf967f793258c9e4177cdfa2432a7457834e0966b3"
   }
  }
 },
 "nbformat": 4,
 "nbformat_minor": 4
}
